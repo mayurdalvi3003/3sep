{
 "cells": [
  {
   "cell_type": "markdown",
   "id": "b12ac581",
   "metadata": {},
   "source": [
    "# Basic If-Else Statements:\n"
   ]
  },
  {
   "cell_type": "markdown",
   "id": "97a5a1aa",
   "metadata": {},
   "source": [
    "# 1. Write a Python program to check if a given number is positive or negative.\n"
   ]
  },
  {
   "cell_type": "code",
   "execution_count": 4,
   "id": "ee8943c5",
   "metadata": {},
   "outputs": [
    {
     "name": "stdout",
     "output_type": "stream",
     "text": [
      "Enter a number: 10\n",
      "The number is positive.\n"
     ]
    }
   ],
   "source": [
    "# Input a number from the user\n",
    "num = float(input(\"Enter a number: \"))\n",
    "\n",
    "# Check if the number is positive, negative, or zero\n",
    "if num > 0:\n",
    "    print(\"The number is positive.\")\n",
    "elif num < 0:\n",
    "    print(\"The number is negative.\")\n",
    "else:\n",
    "    print(\"The number is zero.\")\n"
   ]
  },
  {
   "cell_type": "markdown",
   "id": "4a8e0049",
   "metadata": {},
   "source": [
    "# 2. Create a program that determines if a person is eligible to vote based on their age.\n"
   ]
  },
  {
   "cell_type": "code",
   "execution_count": 6,
   "id": "4dd520f6",
   "metadata": {},
   "outputs": [
    {
     "name": "stdout",
     "output_type": "stream",
     "text": [
      "Enter your age :18\n",
      "You are eligible to vote \n"
     ]
    }
   ],
   "source": [
    "age = int(input(\"Enter your age :\"))\n",
    "if age >=18:\n",
    "    print(\"You are eligible to vote \")\n",
    "else:\n",
    "    print(\"You are not eligible for the vote \")"
   ]
  },
  {
   "cell_type": "markdown",
   "id": "24f723b7",
   "metadata": {},
   "source": [
    "# 3. Develop a program to find the maximum of two numbers using if-else statements.\n"
   ]
  },
  {
   "cell_type": "code",
   "execution_count": 7,
   "id": "f4aa7dc9",
   "metadata": {},
   "outputs": [
    {
     "name": "stdout",
     "output_type": "stream",
     "text": [
      "Enter the first number: 10\n",
      "Enter the second number: 20\n",
      "The maximum number is: 20.0\n"
     ]
    }
   ],
   "source": [
    "# Input two numbers from the user\n",
    "num1 = float(input(\"Enter the first number: \"))\n",
    "num2 = float(input(\"Enter the second number: \"))\n",
    "\n",
    "# Compare the two numbers to find the maximum\n",
    "if num1 > num2:\n",
    "    max_num = num1\n",
    "else:\n",
    "    max_num = num2\n",
    "\n",
    "# Print the maximum number\n",
    "print(\"The maximum number is:\", max_num)\n"
   ]
  },
  {
   "cell_type": "markdown",
   "id": "bd31b6ef",
   "metadata": {},
   "source": [
    "# 4. Write a Python script to classify a given year as a leap year or not.\n"
   ]
  },
  {
   "cell_type": "code",
   "execution_count": 11,
   "id": "3db46e28",
   "metadata": {},
   "outputs": [
    {
     "name": "stdout",
     "output_type": "stream",
     "text": [
      "Enter the year :2017\n",
      "Entered year is not leap year \n"
     ]
    }
   ],
   "source": [
    "year = int(input(\"Enter the year :\"))\n",
    "if year/4==0:\n",
    "    print(\"Entered year is leap year \")\n",
    "else:\n",
    "    print(\"Entered year is not leap year \")"
   ]
  },
  {
   "cell_type": "markdown",
   "id": "686e3f08",
   "metadata": {},
   "source": [
    "# 5. Create a program that checks whether a character is a vowel or a consonant.\n"
   ]
  },
  {
   "cell_type": "code",
   "execution_count": 14,
   "id": "edd06d36",
   "metadata": {},
   "outputs": [
    {
     "name": "stdout",
     "output_type": "stream",
     "text": [
      "Enter a character: m\n",
      "m is a consonant.\n"
     ]
    }
   ],
   "source": [
    "# Input a character from the user (assuming a single character)\n",
    "char = input(\"Enter a character: \")\n",
    "\n",
    "# Convert the input to lowercase to handle both uppercase and lowercase characters\n",
    "char = char.lower()\n",
    "\n",
    "# Check if the input is a single character and it is an alphabet\n",
    "if len(char) == 1 and char.isalpha():\n",
    "    if char in \"aeiou\":\n",
    "        print(char, \"is a vowel.\")\n",
    "    else:\n",
    "        print(char, \"is a consonant.\")\n",
    "else:\n",
    "    print(\"Please enter a valid single alphabet character.\")\n"
   ]
  },
  {
   "cell_type": "markdown",
   "id": "2248fd90",
   "metadata": {},
   "source": [
    "# 6. Implement a program to determine whether a given number is even or odd.\n"
   ]
  },
  {
   "cell_type": "code",
   "execution_count": 21,
   "id": "f95c3a03",
   "metadata": {},
   "outputs": [
    {
     "name": "stdout",
     "output_type": "stream",
     "text": [
      "Enter any number :12\n",
      "Entered number is an even number \n"
     ]
    }
   ],
   "source": [
    "num = int(input(\"Enter any number :\"))\n",
    "if num%2==0:\n",
    "    print(\"Entered number is an even number \")\n",
    "else:\n",
    "    print(\"Entered number is an odd number \")"
   ]
  },
  {
   "cell_type": "markdown",
   "id": "00094127",
   "metadata": {},
   "source": [
    "# 7. Write a Python function to calculate the absolute value of a number without using the `abs()` function.\n"
   ]
  },
  {
   "cell_type": "code",
   "execution_count": 23,
   "id": "d28ea8ca",
   "metadata": {},
   "outputs": [
    {
     "name": "stdout",
     "output_type": "stream",
     "text": [
      "Enter a number: 15\n",
      "The absolute value of 15.0 is 15.0\n"
     ]
    }
   ],
   "source": [
    "def calculate_absolute_value(number):\n",
    "    if number < 0:\n",
    "        return -number\n",
    "    else:\n",
    "        return number\n",
    "\n",
    "# Test the function\n",
    "num = float(input(\"Enter a number: \"))\n",
    "result = calculate_absolute_value(num)\n",
    "print(\"The absolute value of\", num, \"is\", result)\n"
   ]
  },
  {
   "cell_type": "markdown",
   "id": "3481222b",
   "metadata": {},
   "source": [
    "# 8. Develop a program that determines the largest of three given numbers using if-else statements.\n"
   ]
  },
  {
   "cell_type": "code",
   "execution_count": 3,
   "id": "6633861c",
   "metadata": {},
   "outputs": [
    {
     "name": "stdout",
     "output_type": "stream",
     "text": [
      "Enter the first number :10\n",
      "Enter the second number :15\n",
      "Enter the third number :0.1\n",
      "The largest number is : 15.0\n"
     ]
    }
   ],
   "source": [
    "num1 = float(input(\"Enter the first number :\"))\n",
    "num2 = float(input(\"Enter the second number :\"))\n",
    "num3 = float(input(\"Enter the third number :\"))\n",
    "if num1>num2 and num1>num3:\n",
    "    print(\"The largest number is :\" ,num1)\n",
    "elif num2>num1 and num2>num3:\n",
    "    print(\"The largest number is :\" ,num2)\n",
    "else:\n",
    "    print(\"The largest number is :\" ,num3)\n",
    "    "
   ]
  },
  {
   "cell_type": "markdown",
   "id": "8569842e",
   "metadata": {},
   "source": [
    "# 9. Create a program that checks if a given string is a palindrome.\n"
   ]
  },
  {
   "cell_type": "code",
   "execution_count": 10,
   "id": "1c6d3e03",
   "metadata": {},
   "outputs": [
    {
     "name": "stdout",
     "output_type": "stream",
     "text": [
      "Enter any string :madam\n",
      "Entered madam Sting is palindrome \n"
     ]
    }
   ],
   "source": [
    "str = input(\"Enter any string :\")\n",
    "rev_str =str[::-1]\n",
    "if str == rev_str:\n",
    "    print(\"Entered\" +\" \"+ str +\" \" + \"Sting is palindrome \")\n",
    "else:\n",
    "    print(\"Entered\"+\" \" + str +\" \" + \"Sting is not palindrome \")"
   ]
  },
  {
   "cell_type": "markdown",
   "id": "f3c5cf77",
   "metadata": {},
   "source": [
    "# 10. Write a Python program to calculate the grade based on a student's score.\n"
   ]
  },
  {
   "cell_type": "code",
   "execution_count": 11,
   "id": "1a3a509d",
   "metadata": {},
   "outputs": [
    {
     "name": "stdout",
     "output_type": "stream",
     "text": [
      "Enter the student's score: 75\n",
      "The student's grade is: C\n"
     ]
    }
   ],
   "source": [
    "# Input the student's score from the user\n",
    "score = float(input(\"Enter the student's score: \"))\n",
    "\n",
    "# Define grade ranges and calculate the grade\n",
    "if 90 <= score <= 100:\n",
    "    grade = 'A'\n",
    "elif 80 <= score < 90:\n",
    "    grade = 'B'\n",
    "elif 70 <= score < 80:\n",
    "    grade = 'C'\n",
    "elif 60 <= score < 70:\n",
    "    grade = 'D'\n",
    "elif 0 <= score < 60:\n",
    "    grade = 'F'\n",
    "else:\n",
    "    grade = 'Invalid score (score should be between 0 and 100)'\n",
    "\n",
    "# Print the grade\n",
    "print(f\"The student's grade is: {grade}\")\n"
   ]
  },
  {
   "cell_type": "markdown",
   "id": "a0fee9f6",
   "metadata": {},
   "source": [
    "# Nested If-Else Statements:\n"
   ]
  },
  {
   "cell_type": "markdown",
   "id": "c2c9ffd9",
   "metadata": {},
   "source": [
    "# 11. Write a program to find the largest among three numbers using nested if-else statements.\n"
   ]
  },
  {
   "cell_type": "code",
   "execution_count": 12,
   "id": "a983252a",
   "metadata": {},
   "outputs": [
    {
     "name": "stdout",
     "output_type": "stream",
     "text": [
      "Enter the first number: 10\n",
      "Enter the second number: 20\n",
      "Enter the third number: 30\n",
      "The largest number is: 30.0\n"
     ]
    }
   ],
   "source": [
    "# Input three numbers from the user\n",
    "num1 = float(input(\"Enter the first number: \"))\n",
    "num2 = float(input(\"Enter the second number: \"))\n",
    "num3 = float(input(\"Enter the third number: \"))\n",
    "\n",
    "# Check which number is the largest using nested if-else statements\n",
    "if num1 >= num2:\n",
    "    if num1 >= num3:\n",
    "        largest = num1\n",
    "    else:\n",
    "        largest = num3\n",
    "else:\n",
    "    if num2 >= num3:\n",
    "        largest = num2\n",
    "    else:\n",
    "        largest = num3\n",
    "\n",
    "# Print the largest number\n",
    "print(\"The largest number is:\", largest)\n"
   ]
  },
  {
   "cell_type": "markdown",
   "id": "da831e97",
   "metadata": {},
   "source": [
    "# 12. Implement a program to determine if a triangle is equilateral, isosceles, or scalene.\n"
   ]
  },
  {
   "cell_type": "code",
   "execution_count": 15,
   "id": "3103335a",
   "metadata": {},
   "outputs": [
    {
     "name": "stdout",
     "output_type": "stream",
     "text": [
      "Enter the length of the first side: 10\n",
      "Enter the length of the second side: 10\n",
      "Enter the length of the third side: 10\n",
      "It's a equilateral triangle.\n"
     ]
    }
   ],
   "source": [
    "# Input the lengths of the three sides of the triangle from the user\n",
    "side1 = float(input(\"Enter the length of the first side: \"))\n",
    "side2 = float(input(\"Enter the length of the second side: \"))\n",
    "side3 = float(input(\"Enter the length of the third side: \"))\n",
    "\n",
    "# Check if it's a valid triangle (the sum of any two sides must be greater than the third side)\n",
    "if side1 + side2 > side3 and side1 + side3 > side2 and side2 + side3 > side1:\n",
    "    # Check the type of triangle\n",
    "    if side1 == side2 == side3:\n",
    "        triangle_type = \"equilateral\"\n",
    "    elif side1 == side2 or side1 == side3 or side2 == side3:\n",
    "        triangle_type = \"isosceles\"\n",
    "    else:\n",
    "        triangle_type = \"scalene\"\n",
    "    \n",
    "    # Print the type of triangle\n",
    "    print(\"It's a\", triangle_type, \"triangle.\")\n",
    "else:\n",
    "    print(\"It's not a valid triangle.\")\n"
   ]
  },
  {
   "cell_type": "markdown",
   "id": "4a1ccb98",
   "metadata": {},
   "source": [
    "# 13. Develop a program that checks if a year is a leap year and also if it is a century year.\n"
   ]
  },
  {
   "cell_type": "code",
   "execution_count": 16,
   "id": "cbcdf1b2",
   "metadata": {},
   "outputs": [
    {
     "name": "stdout",
     "output_type": "stream",
     "text": [
      "Enter a year: 2020\n",
      "2020 is a leap year.\n",
      "2020 is not a century year.\n"
     ]
    }
   ],
   "source": [
    "# Input a year from the user\n",
    "year = int(input(\"Enter a year: \"))\n",
    "\n",
    "# Check if it's a leap year and a century year\n",
    "if (year % 4 == 0 and year % 100 != 0) or (year % 400 == 0):\n",
    "    is_leap_year = True\n",
    "else:\n",
    "    is_leap_year = False\n",
    "\n",
    "if year % 100 == 0:\n",
    "    is_century_year = True\n",
    "else:\n",
    "    is_century_year = False\n",
    "\n",
    "# Print the results\n",
    "if is_leap_year:\n",
    "    print(year, \"is a leap year.\")\n",
    "else:\n",
    "    print(year, \"is not a leap year.\")\n",
    "\n",
    "if is_century_year:\n",
    "    print(year, \"is a century year.\")\n",
    "else:\n",
    "    print(year, \"is not a century year.\")\n"
   ]
  },
  {
   "cell_type": "markdown",
   "id": "24eec9f2",
   "metadata": {},
   "source": [
    "# 14. Write a Python script to determine if a number is positive, negative, or zero.\n"
   ]
  },
  {
   "cell_type": "code",
   "execution_count": 17,
   "id": "99aea74f",
   "metadata": {},
   "outputs": [
    {
     "name": "stdout",
     "output_type": "stream",
     "text": [
      "Enter a number: 10\n",
      "The number is positive.\n"
     ]
    }
   ],
   "source": [
    "# Input a number from the user\n",
    "number = float(input(\"Enter a number: \"))\n",
    "\n",
    "# Check if the number is positive, negative, or zero using nested if-else\n",
    "if number == 0:\n",
    "    print(\"The number is zero.\")\n",
    "else:\n",
    "    if number > 0:\n",
    "        print(\"The number is positive.\")\n",
    "    else:\n",
    "        print(\"The number is negative.\")\n"
   ]
  },
  {
   "cell_type": "markdown",
   "id": "eafff135",
   "metadata": {},
   "source": [
    "# 15. Create a program to check if a person is a teenager (between 13 and 19 years old).\n"
   ]
  },
  {
   "cell_type": "code",
   "execution_count": 19,
   "id": "3eb32e2a",
   "metadata": {},
   "outputs": [
    {
     "name": "stdout",
     "output_type": "stream",
     "text": [
      "Enter your age: 13\n",
      "You are a teenager.\n"
     ]
    }
   ],
   "source": [
    "# Input the age of the person from the user\n",
    "age = int(input(\"Enter your age: \"))\n",
    "\n",
    "# Check if the person is a teenager using nested if-else\n",
    "if age >= 13:\n",
    "    if age <= 19:\n",
    "        print(\"You are a teenager.\")\n",
    "    else:\n",
    "        print(\"You are not a teenager.\")\n",
    "else:\n",
    "    print(\"You are not a teenager.\")\n"
   ]
  },
  {
   "cell_type": "markdown",
   "id": "8d59b934",
   "metadata": {},
   "source": [
    "# 16. Develop a program that determines the type of angle based on its measure (acute, obtuse, or right).\n"
   ]
  },
  {
   "cell_type": "code",
   "execution_count": 21,
   "id": "0c85cf74",
   "metadata": {},
   "outputs": [
    {
     "name": "stdout",
     "output_type": "stream",
     "text": [
      "Enter the angle measure in degrees: 90\n",
      "The angle is right.\n"
     ]
    }
   ],
   "source": [
    "# Input the angle measure from the user\n",
    "angle = float(input(\"Enter the angle measure in degrees: \"))\n",
    "\n",
    "# Check the type of angle using nested if-else\n",
    "if angle > 0:\n",
    "    if angle < 90:\n",
    "        angle_type = \"acute\"\n",
    "    elif angle == 90:\n",
    "        angle_type = \"right\"\n",
    "    else:\n",
    "        angle_type = \"obtuse\"\n",
    "else:\n",
    "    angle_type = \"invalid (angles must be greater than 0 degrees)\"\n",
    "\n",
    "# Print the type of angle\n",
    "print(f\"The angle is {angle_type}.\")\n"
   ]
  },
  {
   "cell_type": "markdown",
   "id": "97d1f29d",
   "metadata": {},
   "source": [
    "# 17. Write a Python program to calculate the roots of a quadratic equation.\n"
   ]
  },
  {
   "cell_type": "code",
   "execution_count": 22,
   "id": "018e8255",
   "metadata": {},
   "outputs": [
    {
     "name": "stdout",
     "output_type": "stream",
     "text": [
      "Enter coefficient a: 10\n",
      "Enter coefficient b: 20\n",
      "Enter coefficient c: 30\n",
      "The roots are complex:\n",
      "Root 1 = -1.0 + 1.4142135623730951i\n",
      "Root 2 = -1.0 - 1.4142135623730951i\n"
     ]
    }
   ],
   "source": [
    "import math\n",
    "\n",
    "# Input coefficients of the quadratic equation (a, b, and c)\n",
    "a = float(input(\"Enter coefficient a: \"))\n",
    "b = float(input(\"Enter coefficient b: \"))\n",
    "c = float(input(\"Enter coefficient c: \"))\n",
    "\n",
    "# Calculate the discriminant\n",
    "discriminant = b**2 - 4*a*c\n",
    "\n",
    "# Check the number of roots using nested if-else\n",
    "if discriminant > 0:\n",
    "    # Two real and distinct roots\n",
    "    root1 = (-b + math.sqrt(discriminant)) / (2*a)\n",
    "    root2 = (-b - math.sqrt(discriminant)) / (2*a)\n",
    "    print(\"The roots are real and distinct:\")\n",
    "    print(\"Root 1 =\", root1)\n",
    "    print(\"Root 2 =\", root2)\n",
    "elif discriminant == 0:\n",
    "    # One real root (a repeated root)\n",
    "    root = -b / (2*a)\n",
    "    print(\"The root is real and repeated:\")\n",
    "    print(\"Root =\", root)\n",
    "else:\n",
    "    # No real roots (complex roots)\n",
    "    real_part = -b / (2*a)\n",
    "    imaginary_part = math.sqrt(abs(discriminant)) / (2*a)\n",
    "    print(\"The roots are complex:\")\n",
    "    print(f\"Root 1 = {real_part} + {imaginary_part}i\")\n",
    "    print(f\"Root 2 = {real_part} - {imaginary_part}i\")\n"
   ]
  },
  {
   "cell_type": "markdown",
   "id": "6574a786",
   "metadata": {},
   "source": [
    "# 18. Implement a program to determine the day of the week based on a user-provided number (1 for Monday, 2 for Tuesday, etc.)."
   ]
  },
  {
   "cell_type": "code",
   "execution_count": 23,
   "id": "f9bdaf57",
   "metadata": {},
   "outputs": [
    {
     "name": "stdout",
     "output_type": "stream",
     "text": [
      "Enter a number (1 for Monday, 2 for Tuesday, etc.): 5\n",
      "The day of the week is Friday.\n"
     ]
    }
   ],
   "source": [
    "# Input a number for the day of the week from the user\n",
    "day_number = int(input(\"Enter a number (1 for Monday, 2 for Tuesday, etc.): \"))\n",
    "\n",
    "# Determine the day of the week using nested if-else\n",
    "if day_number == 1:\n",
    "    day_name = \"Monday\"\n",
    "elif day_number == 2:\n",
    "    day_name = \"Tuesday\"\n",
    "elif day_number == 3:\n",
    "    day_name = \"Wednesday\"\n",
    "elif day_number == 4:\n",
    "    day_name = \"Thursday\"\n",
    "elif day_number == 5:\n",
    "    day_name = \"Friday\"\n",
    "elif day_number == 6:\n",
    "    day_name = \"Saturday\"\n",
    "elif day_number == 7:\n",
    "    day_name = \"Sunday\"\n",
    "else:\n",
    "    day_name = \"Invalid input (must be between 1 and 7)\"\n",
    "\n",
    "# Print the day of the week\n",
    "print(f\"The day of the week is {day_name}.\")\n"
   ]
  },
  {
   "cell_type": "markdown",
   "id": "3b187711",
   "metadata": {},
   "source": [
    "# 19. Create a program that determines if a year is a leap year and also if it is evenly divisible by 400.\n"
   ]
  },
  {
   "cell_type": "code",
   "execution_count": 25,
   "id": "85ff30d3",
   "metadata": {},
   "outputs": [
    {
     "name": "stdout",
     "output_type": "stream",
     "text": [
      "Enter a year: 2016\n",
      "2016 is a leap year and evenly divisible by 400.\n"
     ]
    }
   ],
   "source": [
    "# Input a year from the user\n",
    "year = int(input(\"Enter a year: \"))\n",
    "\n",
    "# Check if it's a leap year and if it's evenly divisible by 400 using nested if-else\n",
    "if year % 4 == 0:\n",
    "    if year % 100 == 0:\n",
    "        if year % 400 == 0:\n",
    "            is_leap_year = True\n",
    "        else:\n",
    "            is_leap_year = False\n",
    "    else:\n",
    "        is_leap_year = True\n",
    "else:\n",
    "    is_leap_year = False\n",
    "\n",
    "# Print the results\n",
    "if is_leap_year:\n",
    "    print(year, \"is a leap year and evenly divisible by 400.\")\n",
    "else:\n",
    "    print(year, \"is not a leap year or not evenly divisible by 400.\")\n"
   ]
  },
  {
   "cell_type": "markdown",
   "id": "0f375f35",
   "metadata": {},
   "source": [
    "# 20. Develop a program that checks if a given number is prime or not using nested if-else statements.\n"
   ]
  },
  {
   "cell_type": "code",
   "execution_count": 29,
   "id": "80f7663e",
   "metadata": {},
   "outputs": [
    {
     "name": "stdout",
     "output_type": "stream",
     "text": [
      "Enter a number: 9\n",
      "9 is not a prime number\n",
      "3 times 3 is 9\n"
     ]
    }
   ],
   "source": [
    "\n",
    "num = int(input(\"Enter a number: \"))\n",
    "\n",
    "if num == 1:\n",
    "    print(num, \"is not a prime number\")\n",
    "elif num > 1:\n",
    "   # check for factors\n",
    "   for i in range(2,num):\n",
    "       if (num % i) == 0:\n",
    "           print(num,\"is not a prime number\")\n",
    "           print(i,\"times\",num//i,\"is\",num)\n",
    "           break\n",
    "   else:\n",
    "       print(num,\"is a prime number\")\n",
    "       \n",
    "# if input number is less than\n",
    "# or equal to 1, it is not prime\n",
    "else:\n",
    "   print(num,\"is not a prime number\")"
   ]
  },
  {
   "cell_type": "markdown",
   "id": "ba7859ab",
   "metadata": {},
   "source": [
    "# Elif Statements:\n"
   ]
  },
  {
   "cell_type": "markdown",
   "id": "edf67e67",
   "metadata": {},
   "source": [
    "# 21. Write a Python program to assign grades based on different ranges of scores using elif statements.\n"
   ]
  },
  {
   "cell_type": "code",
   "execution_count": 30,
   "id": "dc9d08e9",
   "metadata": {},
   "outputs": [
    {
     "name": "stdout",
     "output_type": "stream",
     "text": [
      "Enter the student's score: 80\n",
      "The student's grade is: B\n"
     ]
    }
   ],
   "source": [
    "# Input the student's score from the user\n",
    "score = float(input(\"Enter the student's score: \"))\n",
    "\n",
    "# Determine the grade based on different score ranges using elif statements\n",
    "if 90 <= score <= 100:\n",
    "    grade = 'A'\n",
    "elif 80 <= score < 90:\n",
    "    grade = 'B'\n",
    "elif 70 <= score < 80:\n",
    "    grade = 'C'\n",
    "elif 60 <= score < 70:\n",
    "    grade = 'D'\n",
    "elif 0 <= score < 60:\n",
    "    grade = 'F'\n",
    "else:\n",
    "    grade = 'Invalid score (score should be between 0 and 100)'\n",
    "\n",
    "# Print the grade\n",
    "print(f\"The student's grade is: {grade}\")\n"
   ]
  },
  {
   "cell_type": "markdown",
   "id": "a97f84a9",
   "metadata": {},
   "source": [
    "# 22. Implement a program to determine the type of a triangle based on its angles.\n"
   ]
  },
  {
   "cell_type": "code",
   "execution_count": 35,
   "id": "fc430242",
   "metadata": {},
   "outputs": [
    {
     "name": "stdout",
     "output_type": "stream",
     "text": [
      "Enter the first angle (in degrees): 90\n",
      "Enter the second angle (in degrees): 45\n",
      "Enter the third angle (in degrees): 45\n",
      "The triangle is right.\n"
     ]
    }
   ],
   "source": [
    "# Input the three angles of the triangle from the user\n",
    "angle1 = float(input(\"Enter the first angle (in degrees): \"))\n",
    "angle2 = float(input(\"Enter the second angle (in degrees): \"))\n",
    "angle3 = float(input(\"Enter the third angle (in degrees): \"))\n",
    "\n",
    "# Check the type of triangle based on its angles using if-elif\n",
    "if angle1 + angle2 + angle3 == 180:\n",
    "    if angle1 < 90 and angle2 < 90 and angle3 < 90:\n",
    "        triangle_type = \"acute\"\n",
    "    elif angle1 == 90 or angle2 == 90 or angle3 == 90:\n",
    "        triangle_type = \"right\"\n",
    "    else:\n",
    "        triangle_type = \"obtuse\"\n",
    "else:\n",
    "    triangle_type = \"Invalid (the angles do not form a triangle)\"\n",
    "\n",
    "# Print the type of triangle\n",
    "print(f\"The triangle is {triangle_type}.\")\n"
   ]
  },
  {
   "cell_type": "markdown",
   "id": "0b1e7d88",
   "metadata": {},
   "source": [
    "# 23. Develop a program to categorize a given person's BMI into underweight, normal, overweight, or obese using elif statements."
   ]
  },
  {
   "cell_type": "code",
   "execution_count": 37,
   "id": "cd64f0bb",
   "metadata": {},
   "outputs": [
    {
     "name": "stdout",
     "output_type": "stream",
     "text": [
      "Enter your weight (kg): 50\n",
      "Enter your height (m): 100\n",
      "Your BMI is 0.01, which is considered underweight.\n"
     ]
    }
   ],
   "source": [
    "# Input the person's weight (in kilograms) and height (in meters) from the user\n",
    "weight = float(input(\"Enter your weight (kg): \"))\n",
    "height = float(input(\"Enter your height (m): \"))\n",
    "\n",
    "# Calculate BMI\n",
    "bmi = weight / (height * height)\n",
    "\n",
    "# Categorize BMI using elif statements\n",
    "if bmi < 18.5:\n",
    "    category = \"underweight\"\n",
    "elif 18.5 <= bmi < 24.9:\n",
    "    category = \"normal weight\"\n",
    "elif 24.9 <= bmi < 29.9:\n",
    "    category = \"overweight\"\n",
    "else:\n",
    "    category = \"obese\"\n",
    "\n",
    "# Print the BMI category\n",
    "print(f\"Your BMI is {bmi:.2f}, which is considered {category}.\")\n"
   ]
  },
  {
   "cell_type": "markdown",
   "id": "590c90b2",
   "metadata": {},
   "source": [
    "# 24. Create a program that determines whether a given number is positive, negative, or zero using elif statements"
   ]
  },
  {
   "cell_type": "code",
   "execution_count": 38,
   "id": "2693a952",
   "metadata": {},
   "outputs": [
    {
     "name": "stdout",
     "output_type": "stream",
     "text": [
      "Enter a number: -20\n",
      "The number is negative.\n"
     ]
    }
   ],
   "source": [
    "# Input a number from the user\n",
    "number = float(input(\"Enter a number: \"))\n",
    "\n",
    "# Determine if the number is positive, negative, or zero using elif statements\n",
    "if number > 0:\n",
    "    print(\"The number is positive.\")\n",
    "elif number < 0:\n",
    "    print(\"The number is negative.\")\n",
    "else:\n",
    "    print(\"The number is zero.\")\n"
   ]
  },
  {
   "cell_type": "markdown",
   "id": "d120a717",
   "metadata": {},
   "source": [
    "# 25. Write a Python script to determine the type of a character (uppercase, lowercase, or special) using elif statements."
   ]
  },
  {
   "cell_type": "code",
   "execution_count": 41,
   "id": "e03d3865",
   "metadata": {},
   "outputs": [
    {
     "name": "stdout",
     "output_type": "stream",
     "text": [
      "Enter a character: MAYUR\n",
      "The character 'MAYUR' is a uppercase character.\n"
     ]
    }
   ],
   "source": [
    "# Input a character from the user\n",
    "char = input(\"Enter a character: \")\n",
    "\n",
    "# Determine the type of character using elif statements\n",
    "if char.isupper():\n",
    "    char_type = \"uppercase\"\n",
    "elif char.islower():\n",
    "    char_type = \"lowercase\"\n",
    "else:\n",
    "    char_type = \"special\"\n",
    "\n",
    "# Print the type of character\n",
    "print(f\"The character '{char}' is a {char_type} character.\")\n"
   ]
  },
  {
   "cell_type": "markdown",
   "id": "805af394",
   "metadata": {},
   "source": [
    "# 26. Implement a program to calculate the discounted price based on different purchase amounts using elif statements"
   ]
  },
  {
   "cell_type": "code",
   "execution_count": 43,
   "id": "a243bddf",
   "metadata": {},
   "outputs": [
    {
     "name": "stdout",
     "output_type": "stream",
     "text": [
      "Enter the purchase amount: 500\n",
      "Discounted Price: 400.00\n"
     ]
    }
   ],
   "source": [
    "# Input the purchase amount from the user\n",
    "purchase_amount = float(input(\"Enter the purchase amount: \"))\n",
    "\n",
    "# Calculate the discounted price using elif statements\n",
    "if purchase_amount < 100:\n",
    "    discount = 0\n",
    "elif 100 <= purchase_amount < 500:\n",
    "    discount = 0.1  # 10% discount for purchase between 100 and 499.99\n",
    "elif 500 <= purchase_amount < 1000:\n",
    "    discount = 0.2  # 20% discount for purchase between 500 and 999.99\n",
    "else:\n",
    "    discount = 0.3  # 30% discount for purchase of 1000 or more\n",
    "\n",
    "# Calculate the final price after applying the discount\n",
    "discounted_price = purchase_amount - (purchase_amount * discount)\n",
    "\n",
    "# Print the discounted price\n",
    "print(f\"Discounted Price: {discounted_price:.2f}\")\n"
   ]
  },
  {
   "cell_type": "markdown",
   "id": "06e88866",
   "metadata": {},
   "source": [
    "# 27. Develop a program to calculate the electricity bill based on different consumption slabs using elif statements."
   ]
  },
  {
   "cell_type": "code",
   "execution_count": 47,
   "id": "6639a88e",
   "metadata": {},
   "outputs": [
    {
     "name": "stdout",
     "output_type": "stream",
     "text": [
      "Enter the electricity consumption (in kWh): 100\n",
      "The electricity bill is: 10.00\n"
     ]
    }
   ],
   "source": [
    "# Input the electricity consumption from the user (in kilowatt-hours)\n",
    "consumption = float(input(\"Enter the electricity consumption (in kWh): \"))\n",
    "\n",
    "# Define the electricity rate slabs\n",
    "slab1_rate = 0.10  # Rate for the first 100 kWh\n",
    "slab2_rate = 0.15  # Rate for consumption above 100 kWh up to 200 kWh\n",
    "slab3_rate = 0.20  # Rate for consumption above 200 kWh up to 300 kWh\n",
    "slab4_rate = 0.25  # Rate for consumption above 300 kWh\n",
    "\n",
    "# Calculate the electricity bill using elif statements\n",
    "if consumption <= 100:\n",
    "    bill = consumption * slab1_rate\n",
    "elif consumption <= 200:\n",
    "    bill = (100 * slab1_rate) + ((consumption - 100) * slab2_rate)\n",
    "elif consumption <= 300:\n",
    "    bill = (100 * slab1_rate) + (100 * slab2_rate) + ((consumption - 200) * slab3_rate)\n",
    "else:\n",
    "    bill = (100 * slab1_rate) + (100 * slab2_rate) + (100 * slab3_rate) + ((consumption - 300) * slab4_rate)\n",
    "\n",
    "# Print the electricity bill\n",
    "print(f\"The electricity bill is: {bill:.2f}\")\n"
   ]
  },
  {
   "cell_type": "markdown",
   "id": "2cd7d1dc",
   "metadata": {},
   "source": [
    "# 28. Create a program to determine the type of quadrilateral based on its angles and sides using elif statements."
   ]
  },
  {
   "cell_type": "code",
   "execution_count": 49,
   "id": "538d54b3",
   "metadata": {},
   "outputs": [
    {
     "name": "stdout",
     "output_type": "stream",
     "text": [
      "Enter the first angle (in degrees): 90\n",
      "Enter the second angle (in degrees): 90\n",
      "Enter the third angle (in degrees): 90\n",
      "Enter the fourth angle (in degrees): 90\n",
      "Enter the length of the first side: 50\n",
      "Enter the length of the second side: 50\n",
      "Enter the length of the third side: 50\n",
      "Enter the length of the fourth side: 50\n",
      "The quadrilateral is a square.\n"
     ]
    }
   ],
   "source": [
    "# Input the angles and sides of the quadrilateral from the user\n",
    "angle1 = float(input(\"Enter the first angle (in degrees): \"))\n",
    "angle2 = float(input(\"Enter the second angle (in degrees): \"))\n",
    "angle3 = float(input(\"Enter the third angle (in degrees): \"))\n",
    "angle4 = float(input(\"Enter the fourth angle (in degrees): \"))\n",
    "side1 = float(input(\"Enter the length of the first side: \"))\n",
    "side2 = float(input(\"Enter the length of the second side: \"))\n",
    "side3 = float(input(\"Enter the length of the third side: \"))\n",
    "side4 = float(input(\"Enter the length of the fourth side: \"))\n",
    "\n",
    "# Check the type of quadrilateral using elif statements\n",
    "if angle1 == angle2 == angle3 == angle4 == 90:\n",
    "    if side1 == side2 == side3 == side4:\n",
    "        quadrilateral_type = \"square\"\n",
    "    elif side1 == side3 and side2 == side4:\n",
    "        quadrilateral_type = \"rectangle\"\n",
    "    else:\n",
    "        quadrilateral_type = \"parallelogram\"\n",
    "elif side1 == side2 == side3 == side4:\n",
    "    if angle1 == angle2 == angle3 == angle4:\n",
    "        quadrilateral_type = \"rhombus\"\n",
    "    else:\n",
    "        quadrilateral_type = \"quadrilateral\"\n",
    "else:\n",
    "    quadrilateral_type = \"quadrilateral\"\n",
    "\n",
    "# Print the type of quadrilateral\n",
    "print(f\"The quadrilateral is a {quadrilateral_type}.\")\n"
   ]
  },
  {
   "cell_type": "markdown",
   "id": "e087bc03",
   "metadata": {},
   "source": [
    "# 29. Write a Python script to determine the season based on a user-provided month using elif statements.\n"
   ]
  },
  {
   "cell_type": "code",
   "execution_count": 50,
   "id": "b43e8358",
   "metadata": {},
   "outputs": [
    {
     "name": "stdout",
     "output_type": "stream",
     "text": [
      "Enter a month (e.g., January, February, etc.): january\n",
      "The season for January is winter.\n"
     ]
    }
   ],
   "source": [
    "# Input the month from the user\n",
    "month = input(\"Enter a month (e.g., January, February, etc.): \")\n",
    "\n",
    "# Convert the input to lowercase to make it case-insensitive\n",
    "month = month.lower()\n",
    "\n",
    "# Determine the season using elif statements\n",
    "if month in [\"december\", \"january\", \"february\"]:\n",
    "    season = \"winter\"\n",
    "elif month in [\"march\", \"april\", \"may\"]:\n",
    "    season = \"spring\"\n",
    "elif month in [\"june\", \"july\", \"august\"]:\n",
    "    season = \"summer\"\n",
    "elif month in [\"september\", \"october\", \"november\"]:\n",
    "    season = \"autumn (fall)\"\n",
    "else:\n",
    "    season = \"Invalid month\"\n",
    "\n",
    "# Print the season\n",
    "print(f\"The season for {month.capitalize()} is {season}.\")\n"
   ]
  },
  {
   "cell_type": "markdown",
   "id": "30ce1f4d",
   "metadata": {},
   "source": [
    "# 30. Implement a program to determine the type of a year (leap or common) and month (30 or 31 days) using elif statements."
   ]
  },
  {
   "cell_type": "code",
   "execution_count": 1,
   "id": "8b712867",
   "metadata": {},
   "outputs": [
    {
     "name": "stdout",
     "output_type": "stream",
     "text": [
      "Enter a year: 2004\n",
      "Enter a month (e.g., January, February, etc.): april\n",
      "The year 2004 is a leap year.\n",
      "April has 30 days.\n"
     ]
    }
   ],
   "source": [
    "# Input a year from the user\n",
    "year = int(input(\"Enter a year: \"))\n",
    "\n",
    "# Input a month from the user\n",
    "month = input(\"Enter a month (e.g., January, February, etc.): \")\n",
    "\n",
    "# Convert the input month to lowercase to make it case-insensitive\n",
    "month = month.lower()\n",
    "\n",
    "# Determine the type of year (leap or common) using elif statements\n",
    "if (year % 4 == 0 and year % 100 != 0) or (year % 400 == 0):\n",
    "    year_type = \"leap\"\n",
    "else:\n",
    "    year_type = \"common\"\n",
    "\n",
    "# Determine the number of days in the month using elif statements\n",
    "if month in [\"january\", \"march\", \"may\", \"july\", \"august\", \"october\", \"december\"]:\n",
    "    days_in_month = 31\n",
    "elif month in [\"april\", \"june\", \"september\", \"november\"]:\n",
    "    days_in_month = 30\n",
    "elif month == \"february\":\n",
    "    if year_type == \"leap\":\n",
    "        days_in_month = 29\n",
    "    else:\n",
    "        days_in_month = 28\n",
    "else:\n",
    "    days_in_month = \"Invalid month\"\n",
    "\n",
    "# Print the type of year and the number of days in the month\n",
    "print(f\"The year {year} is a {year_type} year.\")\n",
    "print(f\"{month.capitalize()} has {days_in_month} days.\")\n"
   ]
  },
  {
   "cell_type": "markdown",
   "id": "17d5d93c",
   "metadata": {},
   "source": [
    "# Basic Level:"
   ]
  },
  {
   "cell_type": "markdown",
   "id": "bf1ff363",
   "metadata": {},
   "source": [
    "# 1. Write a Python program that checks if a given number is positive, negative, or zero.\n"
   ]
  },
  {
   "cell_type": "code",
   "execution_count": 2,
   "id": "ad76b94a",
   "metadata": {},
   "outputs": [
    {
     "name": "stdout",
     "output_type": "stream",
     "text": [
      "Enter a number: 500\n",
      "The number is positive.\n"
     ]
    }
   ],
   "source": [
    "# Input a number from the user\n",
    "number = float(input(\"Enter a number: \"))\n",
    "\n",
    "# Check if the number is positive, negative, or zero using nested if-else\n",
    "if number == 0:\n",
    "    print(\"The number is zero.\")\n",
    "else:\n",
    "    if number > 0:\n",
    "        print(\"The number is positive.\")\n",
    "    else:\n",
    "        print(\"The number is negative.\")\n"
   ]
  },
  {
   "cell_type": "markdown",
   "id": "475116cb",
   "metadata": {},
   "source": [
    "# 2. Create a program to determine if a person is eligible to vote based on their age.\n"
   ]
  },
  {
   "cell_type": "code",
   "execution_count": 3,
   "id": "989aad80",
   "metadata": {},
   "outputs": [
    {
     "name": "stdout",
     "output_type": "stream",
     "text": [
      "Enter your age :50\n",
      "You are eligible to vote \n"
     ]
    }
   ],
   "source": [
    "age = int(input(\"Enter your age :\"))\n",
    "if age >=18:\n",
    "    print(\"You are eligible to vote \")\n",
    "else:\n",
    "    print(\"You are not eligible for the vote \")"
   ]
  },
  {
   "cell_type": "markdown",
   "id": "90f5a418",
   "metadata": {},
   "source": [
    "# 3. Write a program to find the maximum of two given numbers using conditional statements.\n"
   ]
  },
  {
   "cell_type": "code",
   "execution_count": 4,
   "id": "077f0e97",
   "metadata": {},
   "outputs": [
    {
     "name": "stdout",
     "output_type": "stream",
     "text": [
      "Enter any number :200\n",
      "Enter any number :100\n",
      "The maximum of the two number is : 200.0\n"
     ]
    }
   ],
   "source": [
    "num1 = float(input(\"Enter any number :\"))\n",
    "num2 = float(input(\"Enter any number :\"))\n",
    "if num1>num2:\n",
    "    print(\"The maximum of the two number is :\",num1)"
   ]
  },
  {
   "cell_type": "markdown",
   "id": "cc8e7e0f",
   "metadata": {},
   "source": [
    "# 4. Develop a program that calculates the grade of a student based on their exam score.\n"
   ]
  },
  {
   "cell_type": "code",
   "execution_count": 5,
   "id": "4916c55c",
   "metadata": {},
   "outputs": [
    {
     "name": "stdout",
     "output_type": "stream",
     "text": [
      "Enter the student's score: 35\n",
      "The student's grade is: F\n"
     ]
    }
   ],
   "source": [
    "# Input the student's score from the user\n",
    "score = float(input(\"Enter the student's score: \"))\n",
    "\n",
    "# Define grade ranges and calculate the grade\n",
    "if 90 <= score <= 100:\n",
    "    grade = 'A'\n",
    "elif 80 <= score < 90:\n",
    "    grade = 'B'\n",
    "elif 70 <= score < 80:\n",
    "    grade = 'C'\n",
    "elif 60 <= score < 70:\n",
    "    grade = 'D'\n",
    "elif 0 <= score < 60:\n",
    "    grade = 'F'\n",
    "else:\n",
    "    grade = 'Invalid score (score should be between 0 and 100)'\n",
    "\n",
    "# Print the grade\n",
    "print(f\"The student's grade is: {grade}\")\n"
   ]
  },
  {
   "cell_type": "markdown",
   "id": "14a05adf",
   "metadata": {},
   "source": [
    "# 5. Create a program that checks if a year is a leap year or not.\n"
   ]
  },
  {
   "cell_type": "code",
   "execution_count": 6,
   "id": "306ae779",
   "metadata": {},
   "outputs": [
    {
     "name": "stdout",
     "output_type": "stream",
     "text": [
      "Enter the year :2004\n",
      "Entered year is not leap year \n"
     ]
    }
   ],
   "source": [
    "year = int(input(\"Enter the year :\"))\n",
    "if year/4==0:\n",
    "    print(\"Entered year is leap year \")\n",
    "else:\n",
    "    print(\"Entered year is not leap year \")"
   ]
  },
  {
   "cell_type": "markdown",
   "id": "9b4176c8",
   "metadata": {},
   "source": [
    "# 6. Write a program to classify a triangle based on its sides' lengths.\n"
   ]
  },
  {
   "cell_type": "code",
   "execution_count": 7,
   "id": "3878a290",
   "metadata": {},
   "outputs": [
    {
     "name": "stdout",
     "output_type": "stream",
     "text": [
      "Enter the length of the first side: 50\n",
      "Enter the length of the second side: 50\n",
      "Enter the length of the third side: 50\n",
      "The triangle is a equilateral triangle.\n"
     ]
    }
   ],
   "source": [
    "# Input the lengths of the three sides of the triangle from the user\n",
    "side1 = float(input(\"Enter the length of the first side: \"))\n",
    "side2 = float(input(\"Enter the length of the second side: \"))\n",
    "side3 = float(input(\"Enter the length of the third side: \"))\n",
    "\n",
    "# Check the type of triangle based on its sides' lengths\n",
    "if side1 == side2 == side3:\n",
    "    triangle_type = \"equilateral\"\n",
    "elif side1 == side2 or side1 == side3 or side2 == side3:\n",
    "    triangle_type = \"isosceles\"\n",
    "else:\n",
    "    triangle_type = \"scalene\"\n",
    "\n",
    "# Print the type of triangle\n",
    "print(f\"The triangle is a {triangle_type} triangle.\")\n"
   ]
  },
  {
   "cell_type": "markdown",
   "id": "10693a5c",
   "metadata": {},
   "source": [
    "# 7. Build a program that determines the largest of three given numbers.\n"
   ]
  },
  {
   "cell_type": "code",
   "execution_count": 8,
   "id": "f5744481",
   "metadata": {},
   "outputs": [
    {
     "name": "stdout",
     "output_type": "stream",
     "text": [
      "Enter the first number: 100\n",
      "Enter the second number: 200\n",
      "Enter the third number: 1000\n",
      "The largest number is: 1000.0\n"
     ]
    }
   ],
   "source": [
    "# Input three numbers from the user\n",
    "num1 = float(input(\"Enter the first number: \"))\n",
    "num2 = float(input(\"Enter the second number: \"))\n",
    "num3 = float(input(\"Enter the third number: \"))\n",
    "\n",
    "# Determine the largest number using if-elif statements\n",
    "if num1 >= num2 and num1 >= num3:\n",
    "    largest = num1\n",
    "elif num2 >= num1 and num2 >= num3:\n",
    "    largest = num2\n",
    "else:\n",
    "    largest = num3\n",
    "\n",
    "# Print the largest number\n",
    "print(f\"The largest number is: {largest}\")\n"
   ]
  },
  {
   "cell_type": "markdown",
   "id": "6c09e45f",
   "metadata": {},
   "source": [
    "# 8. Develop a program that checks whether a character is a vowel or a consonant.\n"
   ]
  },
  {
   "cell_type": "code",
   "execution_count": 9,
   "id": "bdbf6f04",
   "metadata": {},
   "outputs": [
    {
     "name": "stdout",
     "output_type": "stream",
     "text": [
      "Enter a character: m\n",
      "The character 'm' is a consonant.\n"
     ]
    }
   ],
   "source": [
    "# Input a character from the user\n",
    "char = input(\"Enter a character: \")\n",
    "\n",
    "# Convert the input to lowercase to make it case-insensitive\n",
    "char = char.lower()\n",
    "\n",
    "# Check if the character is a vowel or a consonant\n",
    "if char.isalpha() and len(char) == 1:\n",
    "    if char in ['a', 'e', 'i', 'o', 'u']:\n",
    "        result = \"vowel\"\n",
    "    else:\n",
    "        result = \"consonant\"\n",
    "else:\n",
    "    result = \"Invalid input (not a single alphabet character)\"\n",
    "\n",
    "# Print the result\n",
    "print(f\"The character '{char}' is a {result}.\")\n"
   ]
  },
  {
   "cell_type": "markdown",
   "id": "ca3bb862",
   "metadata": {},
   "source": [
    "# 9. Create a program to calculate the total cost of a shopping cart based on discounts.\n"
   ]
  },
  {
   "cell_type": "code",
   "execution_count": 1,
   "id": "16787f00",
   "metadata": {},
   "outputs": [
    {
     "name": "stdout",
     "output_type": "stream",
     "text": [
      "Enter an item (or 'done' to finish): mango\n",
      "Invalid item. Please choose from the available items.\n",
      "Enter an item (or 'done' to finish): done\n",
      "\n",
      "Shopping Cart Contents:\n",
      "\n",
      "Total Cost (after discount): 0.00\n"
     ]
    }
   ],
   "source": [
    "# Define the prices of items in the shopping cart\n",
    "item_prices = {\n",
    "    \"item1\": 10.0,\n",
    "    \"item2\": 15.0,\n",
    "    \"item3\": 20.0,\n",
    "    \"item4\": 25.0,\n",
    "}\n",
    "\n",
    "# Initialize variables for the shopping cart and total cost\n",
    "cart = {}\n",
    "total_cost = 0.0\n",
    "\n",
    "# Input items and quantities from the user\n",
    "while True:\n",
    "    item = input(\"Enter an item (or 'done' to finish): \")\n",
    "    if item == \"done\":\n",
    "        break\n",
    "    elif item in item_prices:\n",
    "        quantity = int(input(f\"Enter the quantity of {item}: \"))\n",
    "        cart[item] = cart.get(item, 0) + quantity\n",
    "    else:\n",
    "        print(\"Invalid item. Please choose from the available items.\")\n",
    "\n",
    "# Calculate the total cost with discounts\n",
    "for item, quantity in cart.items():\n",
    "    if item in item_prices:\n",
    "        total_cost += item_prices[item] * quantity\n",
    "\n",
    "# Apply a discount based on the total cost\n",
    "if total_cost >= 50:\n",
    "    discount = total_cost * 0.1  # 10% discount for total cost >= $50\n",
    "    total_cost -= discount\n",
    "\n",
    "# Print the contents of the shopping cart and the total cost\n",
    "print(\"\\nShopping Cart Contents:\")\n",
    "for item, quantity in cart.items():\n",
    "    print(f\"{item}: {quantity} items\")\n",
    "print(f\"\\nTotal Cost (after discount): {total_cost:.2f}\")\n"
   ]
  },
  {
   "cell_type": "markdown",
   "id": "62f26dc7",
   "metadata": {},
   "source": [
    "# 10. Write a program that checks if a given number is even or odd.\n"
   ]
  },
  {
   "cell_type": "code",
   "execution_count": 2,
   "id": "b949a8f8",
   "metadata": {},
   "outputs": [
    {
     "name": "stdout",
     "output_type": "stream",
     "text": [
      "Enter a number: 45\n",
      "The number 45 is odd.\n"
     ]
    }
   ],
   "source": [
    "# Input a number from the user\n",
    "number = int(input(\"Enter a number: \"))\n",
    "\n",
    "# Check if the number is even or odd\n",
    "if number % 2 == 0:\n",
    "    result = \"even\"\n",
    "else:\n",
    "    result = \"odd\"\n",
    "\n",
    "# Print the result\n",
    "print(f\"The number {number} is {result}.\")\n"
   ]
  },
  {
   "cell_type": "markdown",
   "id": "24480ac1",
   "metadata": {},
   "source": [
    "# Intermediate Level:\n"
   ]
  },
  {
   "cell_type": "markdown",
   "id": "1e01330e",
   "metadata": {},
   "source": [
    "# 11. Write a program that calculates the roots of a quadratic equation .\n"
   ]
  },
  {
   "cell_type": "code",
   "execution_count": 5,
   "id": "330f852c",
   "metadata": {},
   "outputs": [
    {
     "name": "stdout",
     "output_type": "stream",
     "text": [
      "Enter the coefficient of x^2: 10\n",
      "Enter the coefficient of x: 5\n",
      "Enter the constant term: 12\n",
      "The roots are complex: -0.25 + 1.0665364503850772i and -0.25 - 1.0665364503850772i\n"
     ]
    }
   ],
   "source": [
    "import math\n",
    "\n",
    "# Input the coefficients of the quadratic equation\n",
    "a = float(input(\"Enter the coefficient of x^2: \"))\n",
    "b = float(input(\"Enter the coefficient of x: \"))\n",
    "c = float(input(\"Enter the constant term: \"))\n",
    "\n",
    "# Calculate the discriminant\n",
    "discriminant = b**2 - 4*a*c\n",
    "\n",
    "# Check the discriminant to determine the number of roots\n",
    "if discriminant > 0:\n",
    "    root1 = (-b + math.sqrt(discriminant)) / (2*a)\n",
    "    root2 = (-b - math.sqrt(discriminant)) / (2*a)\n",
    "    print(f\"The roots are real and different: {root1} and {root2}\")\n",
    "elif discriminant == 0:\n",
    "    root1 = -b / (2*a)\n",
    "    print(f\"The root is real and equal: {root1}\")\n",
    "else:\n",
    "    real_part = -b / (2*a)\n",
    "    imaginary_part = math.sqrt(-discriminant) / (2*a)\n",
    "    print(f\"The roots are complex: {real_part} + {imaginary_part}i and {real_part} - {imaginary_part}i\")\n"
   ]
  },
  {
   "cell_type": "markdown",
   "id": "b9bb630e",
   "metadata": {},
   "source": [
    "# 12. Create a program that determines the day of the week based on the day number (1-7).\n"
   ]
  },
  {
   "cell_type": "code",
   "execution_count": 6,
   "id": "d171a098",
   "metadata": {},
   "outputs": [
    {
     "name": "stdout",
     "output_type": "stream",
     "text": [
      "Enter a day number (1-7): 6\n",
      "Day 6 corresponds to Saturday.\n"
     ]
    }
   ],
   "source": [
    "# Input the day number from the user (1-7)\n",
    "day_number = int(input(\"Enter a day number (1-7): \"))\n",
    "\n",
    "# Determine the day of the week using if-elif statements\n",
    "if day_number == 1:\n",
    "    day = \"Monday\"\n",
    "elif day_number == 2:\n",
    "    day = \"Tuesday\"\n",
    "elif day_number == 3:\n",
    "    day = \"Wednesday\"\n",
    "elif day_number == 4:\n",
    "    day = \"Thursday\"\n",
    "elif day_number == 5:\n",
    "    day = \"Friday\"\n",
    "elif day_number == 6:\n",
    "    day = \"Saturday\"\n",
    "elif day_number == 7:\n",
    "    day = \"Sunday\"\n",
    "else:\n",
    "    day = \"Invalid day number (must be between 1 and 7)\"\n",
    "\n",
    "# Print the day of the week\n",
    "print(f\"Day {day_number} corresponds to {day}.\")\n"
   ]
  },
  {
   "cell_type": "markdown",
   "id": "e2d186bb",
   "metadata": {},
   "source": [
    "# 13. Develop a program that calculates the factorial of a given number using recursion.\n"
   ]
  },
  {
   "cell_type": "code",
   "execution_count": 7,
   "id": "2b601499",
   "metadata": {},
   "outputs": [
    {
     "name": "stdout",
     "output_type": "stream",
     "text": [
      "Enter a non-negative integer: 10\n",
      "The factorial of 10 is 3628800.\n"
     ]
    }
   ],
   "source": [
    "# Define a recursive function to calculate the factorial\n",
    "def factorial(n):\n",
    "    if n == 0:\n",
    "        return 1\n",
    "    else:\n",
    "        return n * factorial(n - 1)\n",
    "\n",
    "# Input a number from the user\n",
    "number = int(input(\"Enter a non-negative integer: \"))\n",
    "\n",
    "# Check if the input is non-negative\n",
    "if number < 0:\n",
    "    print(\"Factorial is not defined for negative numbers.\")\n",
    "else:\n",
    "    result = factorial(number)\n",
    "    print(f\"The factorial of {number} is {result}.\")\n"
   ]
  },
  {
   "cell_type": "markdown",
   "id": "9fdf7cdd",
   "metadata": {},
   "source": [
    "# 14. Write a program to find the largest among three numbers without using the `max()` function.\n"
   ]
  },
  {
   "cell_type": "code",
   "execution_count": 9,
   "id": "6ed52209",
   "metadata": {},
   "outputs": [
    {
     "name": "stdout",
     "output_type": "stream",
     "text": [
      "Enter the first number: 50\n",
      "Enter the second number: 50\n",
      "Enter the third number: 90\n",
      "The largest number among 50.0, 50.0, and 90.0 is 90.0.\n"
     ]
    }
   ],
   "source": [
    "# Input three numbers from the user\n",
    "num1 = float(input(\"Enter the first number: \"))\n",
    "num2 = float(input(\"Enter the second number: \"))\n",
    "num3 = float(input(\"Enter the third number: \"))\n",
    "\n",
    "# Assume the first number is the largest initially\n",
    "largest = num1\n",
    "\n",
    "# Compare the second and third numbers to find the largest\n",
    "if num2 > largest:\n",
    "    largest = num2\n",
    "if num3 > largest:\n",
    "    largest = num3\n",
    "\n",
    "# Print the largest number\n",
    "print(f\"The largest number among {num1}, {num2}, and {num3} is {largest}.\")\n"
   ]
  },
  {
   "cell_type": "markdown",
   "id": "759b2732",
   "metadata": {},
   "source": [
    "# 15. Create a program that simulates a basic ATM transaction menu.\n"
   ]
  },
  {
   "cell_type": "code",
   "execution_count": 10,
   "id": "560330b0",
   "metadata": {},
   "outputs": [
    {
     "name": "stdout",
     "output_type": "stream",
     "text": [
      "\n",
      "ATM Menu:\n",
      "1. Check Balance\n",
      "2. Deposit Funds\n",
      "3. Withdraw Funds\n",
      "4. Quit\n",
      "Enter your choice (1/2/3/4): 1\n",
      "Your current balance is: $1000.00\n",
      "\n",
      "ATM Menu:\n",
      "1. Check Balance\n",
      "2. Deposit Funds\n",
      "3. Withdraw Funds\n",
      "4. Quit\n",
      "Enter your choice (1/2/3/4): 2\n",
      "Enter the amount to deposit: $3\n",
      "$3.00 has been deposited. Your new balance is: $1003.00\n",
      "\n",
      "ATM Menu:\n",
      "1. Check Balance\n",
      "2. Deposit Funds\n",
      "3. Withdraw Funds\n",
      "4. Quit\n",
      "Enter your choice (1/2/3/4): 4\n",
      "Thank you for using the ATM. Have a great day!\n"
     ]
    }
   ],
   "source": [
    "# Initialize the initial account balance\n",
    "account_balance = 1000.0\n",
    "\n",
    "# Display the ATM menu and handle user transactions\n",
    "while True:\n",
    "    print(\"\\nATM Menu:\")\n",
    "    print(\"1. Check Balance\")\n",
    "    print(\"2. Deposit Funds\")\n",
    "    print(\"3. Withdraw Funds\")\n",
    "    print(\"4. Quit\")\n",
    "\n",
    "    choice = input(\"Enter your choice (1/2/3/4): \")\n",
    "\n",
    "    if choice == \"1\":\n",
    "        print(f\"Your current balance is: ${account_balance:.2f}\")\n",
    "    elif choice == \"2\":\n",
    "        amount = float(input(\"Enter the amount to deposit: $\"))\n",
    "        if amount > 0:\n",
    "            account_balance += amount\n",
    "            print(f\"${amount:.2f} has been deposited. Your new balance is: ${account_balance:.2f}\")\n",
    "        else:\n",
    "            print(\"Invalid amount. Please enter a positive amount.\")\n",
    "    elif choice == \"3\":\n",
    "        amount = float(input(\"Enter the amount to withdraw: $\"))\n",
    "        if amount > 0 and amount <= account_balance:\n",
    "            account_balance -= amount\n",
    "            print(f\"${amount:.2f} has been withdrawn. Your new balance is: ${account_balance:.2f}\")\n",
    "        elif amount <= 0:\n",
    "            print(\"Invalid amount. Please enter a positive amount.\")\n",
    "        else:\n",
    "            print(\"Insufficient funds. Your current balance is not enough to withdraw that amount.\")\n",
    "    elif choice == \"4\":\n",
    "        print(\"Thank you for using the ATM. Have a great day!\")\n",
    "        break\n",
    "    else:\n",
    "        print(\"Invalid choice. Please select a valid option (1/2/3/4).\")\n"
   ]
  },
  {
   "cell_type": "markdown",
   "id": "318fc477",
   "metadata": {},
   "source": [
    "# 16. Build a program that checks if a given string is a palindrome or not.\n"
   ]
  },
  {
   "cell_type": "code",
   "execution_count": 11,
   "id": "5e8bf1ad",
   "metadata": {},
   "outputs": [
    {
     "name": "stdout",
     "output_type": "stream",
     "text": [
      "Enter a string: mayur\n",
      "'mayur' is not a palindrome.\n"
     ]
    }
   ],
   "source": [
    "# Input a string from the user\n",
    "input_string = input(\"Enter a string: \")\n",
    "\n",
    "# Remove spaces and convert the string to lowercase\n",
    "cleaned_string = input_string.replace(\" \", \"\").lower()\n",
    "\n",
    "# Check if the cleaned string is a palindrome\n",
    "if cleaned_string == cleaned_string[::-1]:\n",
    "    print(f\"'{input_string}' is a palindrome.\")\n",
    "else:\n",
    "    print(f\"'{input_string}' is not a palindrome.\")\n"
   ]
  },
  {
   "cell_type": "markdown",
   "id": "1ea90304",
   "metadata": {},
   "source": [
    "# 17. Write a program that calculates the average of a list of numbers, excluding the smallest and largest values.\n"
   ]
  },
  {
   "cell_type": "code",
   "execution_count": 14,
   "id": "9e4f8e43",
   "metadata": {},
   "outputs": [
    {
     "name": "stdout",
     "output_type": "stream",
     "text": [
      "Enter a list of numbers separated by spaces: 10 20 30\n",
      "The average (excluding the smallest and largest values) is: 20.00\n"
     ]
    }
   ],
   "source": [
    "# Input a list of numbers from the user\n",
    "numbers = input(\"Enter a list of numbers separated by spaces: \").split()\n",
    "\n",
    "# Convert the input values to floats\n",
    "numbers = [float(num) for num in numbers]\n",
    "\n",
    "# Check if the list has at least three values\n",
    "if len(numbers) >= 3:\n",
    "    # Sort the list in ascending order\n",
    "    numbers.sort()\n",
    "\n",
    "    # Exclude the smallest and largest values (first and last elements)\n",
    "    trimmed_numbers = numbers[1:-1]\n",
    "\n",
    "    # Calculate the average of the trimmed list\n",
    "    average = sum(trimmed_numbers) / len(trimmed_numbers)\n",
    "\n",
    "    print(f\"The average (excluding the smallest and largest values) is: {average:.2f}\")\n",
    "else:\n",
    "    print(\"Please enter at least three numbers to calculate the average.\")\n"
   ]
  },
  {
   "cell_type": "markdown",
   "id": "4b27410e",
   "metadata": {},
   "source": [
    "# 18. Develop a program that converts a given temperature from Celsius to Fahrenheit.\n"
   ]
  },
  {
   "cell_type": "code",
   "execution_count": 15,
   "id": "555e706a",
   "metadata": {},
   "outputs": [
    {
     "name": "stdout",
     "output_type": "stream",
     "text": [
      "Enter the temperature in Celsius: 20\n",
      "20.00 degrees Celsius is equal to 68.00 degrees Fahrenheit.\n"
     ]
    }
   ],
   "source": [
    "# Input temperature in Celsius from the user\n",
    "celsius = float(input(\"Enter the temperature in Celsius: \"))\n",
    "\n",
    "# Convert Celsius to Fahrenheit\n",
    "fahrenheit = (celsius * 9/5) + 32\n",
    "\n",
    "# Print the converted temperature in Fahrenheit\n",
    "print(f\"{celsius:.2f} degrees Celsius is equal to {fahrenheit:.2f} degrees Fahrenheit.\")\n"
   ]
  },
  {
   "cell_type": "markdown",
   "id": "47fa666f",
   "metadata": {},
   "source": [
    "# 19. Create a program that simulates a basic calculator for addition, subtraction, multiplication, and division.\n"
   ]
  },
  {
   "cell_type": "code",
   "execution_count": null,
   "id": "f248ef9e",
   "metadata": {},
   "outputs": [
    {
     "name": "stdout",
     "output_type": "stream",
     "text": [
      "\n",
      "Calculator Menu:\n",
      "1. Addition\n",
      "2. Subtraction\n",
      "3. Multiplication\n",
      "4. Division\n",
      "5. Quit\n",
      "Enter your choice (1/2/3/4/5): 1\n",
      "Enter the first number: 12\n",
      "Enter the second number: 13\n",
      "The result of addition is: 25.0\n",
      "\n",
      "Calculator Menu:\n",
      "1. Addition\n",
      "2. Subtraction\n",
      "3. Multiplication\n",
      "4. Division\n",
      "5. Quit\n"
     ]
    }
   ],
   "source": [
    "# Display the calculator menu and handle user calculations\n",
    "while True:\n",
    "    print(\"\\nCalculator Menu:\")\n",
    "    print(\"1. Addition\")\n",
    "    print(\"2. Subtraction\")\n",
    "    print(\"3. Multiplication\")\n",
    "    print(\"4. Division\")\n",
    "    print(\"5. Quit\")\n",
    "\n",
    "    choice = input(\"Enter your choice (1/2/3/4/5): \")\n",
    "\n",
    "    if choice == \"1\":\n",
    "        num1 = float(input(\"Enter the first number: \"))\n",
    "        num2 = float(input(\"Enter the second number: \"))\n",
    "        result = num1 + num2\n",
    "        print(f\"The result of addition is: {result}\")\n",
    "    elif choice == \"2\":\n",
    "        num1 = float(input(\"Enter the first number: \"))\n",
    "        num2 = float(input(\"Enter the second number: \"))\n",
    "        result = num1 - num2\n",
    "        print(f\"The result of subtraction is: {result}\")\n",
    "    elif choice == \"3\":\n",
    "        num1 = float(input(\"Enter the first number: \"))\n",
    "        num2 = float(input(\"Enter the second number: \"))\n",
    "        result = num1 * num2\n",
    "        print(f\"The result of multiplication is: {result}\")\n",
    "    elif choice == \"4\":\n",
    "        num1 = float(input(\"Enter the numerator: \"))\n",
    "        num2 = float(input(\"Enter the denominator: \"))\n",
    "        if num2 == 0:\n",
    "            print(\"Division by zero is not allowed.\")\n",
    "        else:\n",
    "            result = num1 / num2\n",
    "            print(f\"The result of division is: {result}\")\n",
    "    elif choice == \"5\":\n",
    "        print(\"Thank you for using the calculator. Have a great day!\")\n",
    "        break\n",
    "    else:\n",
    "        print(\"Invalid choice. Please select a valid option (1/2/3/4/5).\")\n"
   ]
  },
  {
   "cell_type": "markdown",
   "id": "f532e835",
   "metadata": {},
   "source": [
    "# 20. Write a program that determines the roots of a cubic equation using the Cardano formula.\n"
   ]
  },
  {
   "cell_type": "code",
   "execution_count": 1,
   "id": "1fa3aa27",
   "metadata": {},
   "outputs": [
    {
     "name": "stdout",
     "output_type": "stream",
     "text": [
      "Enter the coefficient of x^3 (a): 10\n",
      "Enter the coefficient of x^2 (b): 2\n",
      "Enter the coefficient of x (c): 10\n",
      "Enter the constant term (d): 10\n",
      "One real root: 0.76+0.86j\n",
      "Two complex conjugate roots: (0.3289582013495737-0.5697723183039347j) and (-1.1561848892174778-0.2876754448200652j)\n"
     ]
    }
   ],
   "source": [
    "import math\n",
    "\n",
    "# Input coefficients of the cubic equation: ax^3 + bx^2 + cx + d = 0\n",
    "a = float(input(\"Enter the coefficient of x^3 (a): \"))\n",
    "b = float(input(\"Enter the coefficient of x^2 (b): \"))\n",
    "c = float(input(\"Enter the coefficient of x (c): \"))\n",
    "d = float(input(\"Enter the constant term (d): \"))\n",
    "\n",
    "# Calculate some intermediate values\n",
    "p = c/a - (b**2) / (3*a**2)\n",
    "q = (2*(b**3))/(27*(a**3)) - (b*c)/(3*(a**2)) + d/a\n",
    "\n",
    "# Calculate the discriminant\n",
    "discriminant = (q**2)/4 + (p**3)/27\n",
    "\n",
    "# Check the nature of the roots\n",
    "if discriminant > 0:\n",
    "    # One real root and two complex conjugate roots\n",
    "    u = (-q/2 + math.sqrt(discriminant))**(1/3)\n",
    "    v = (-q/2 - math.sqrt(discriminant))**(1/3)\n",
    "    real_root = u + v - b/(3*a)\n",
    "    complex_root1 = complex(-(u+v)/2, (u-v)*(3**0.5)/2)\n",
    "    complex_root2 = complex(-(u+v)/2, -(u-v)*(3**0.5)/2)\n",
    "    print(f\"One real root: {real_root:.2f}\")\n",
    "    print(f\"Two complex conjugate roots: {complex_root1} and {complex_root2}\")\n",
    "elif discriminant == 0:\n",
    "    # Three real roots, two of which are equal\n",
    "    u = (-q/2)**(1/3)\n",
    "    real_root1 = 2*u - b/(3*a)\n",
    "    real_root2 = -u - b/(3*a)\n",
    "    print(f\"Three real roots (two equal): {real_root1:.2f} and {real_root2:.2f}\")\n",
    "else:\n",
    "    # Three distinct real roots\n",
    "    rho = (-q/2 + math.sqrt(-discriminant))**(1/3)\n",
    "    theta = math.acos(-(q/2) / (rho**3))\n",
    "    real_root1 = 2 * rho * math.cos(theta/3) - b/(3*a)\n",
    "    real_root2 = 2 * rho * math.cos((theta+2*math.pi)/3) - b/(3*a)\n",
    "    real_root3 = 2 * rho * math.cos((theta+4*math.pi)/3) - b/(3*a)\n",
    "    print(f\"Three distinct real roots: {real_root1:.2f}, {real_root2:.2f}, and {real_root3:.2f}\")\n"
   ]
  },
  {
   "cell_type": "markdown",
   "id": "fc6fcf19",
   "metadata": {},
   "source": [
    "# Advanced Level:\n"
   ]
  },
  {
   "cell_type": "markdown",
   "id": "1c2a087f",
   "metadata": {},
   "source": [
    "# 21. Create a program that calculates the income tax based on the user's income and tax brackets.\n"
   ]
  },
  {
   "cell_type": "code",
   "execution_count": 2,
   "id": "5158b4a6",
   "metadata": {},
   "outputs": [
    {
     "name": "stdout",
     "output_type": "stream",
     "text": [
      "Enter your income: 1000000\n",
      "Your income tax is: 384000.00\n"
     ]
    }
   ],
   "source": [
    "# Define the tax brackets and rates as a list of tuples\n",
    "# Each tuple contains (upper_limit, tax_rate)\n",
    "tax_brackets = [(10000, 0.10), (30000, 0.20), (70000, 0.30), (float('inf'), 0.40)]\n",
    "\n",
    "# Input the user's income\n",
    "income = float(input(\"Enter your income: \"))\n",
    "\n",
    "# Initialize variables for total tax and income in each bracket\n",
    "total_tax = 0\n",
    "remaining_income = income\n",
    "\n",
    "# Calculate the tax for each bracket\n",
    "for upper_limit, tax_rate in tax_brackets:\n",
    "    if remaining_income <= 0:\n",
    "        break  # All income has been taxed\n",
    "    elif remaining_income <= upper_limit:\n",
    "        taxable_income = remaining_income\n",
    "    else:\n",
    "        taxable_income = upper_limit\n",
    "    tax_amount = taxable_income * tax_rate\n",
    "    total_tax += tax_amount\n",
    "    remaining_income -= taxable_income\n",
    "\n",
    "# Print the total tax amount\n",
    "print(f\"Your income tax is: {total_tax:.2f}\")\n"
   ]
  },
  {
   "cell_type": "markdown",
   "id": "a895fe88",
   "metadata": {},
   "source": [
    "# 22. Write a program that simulates a rock-paper-scissors game against the computer.\n"
   ]
  },
  {
   "cell_type": "code",
   "execution_count": 3,
   "id": "f273dc7f",
   "metadata": {},
   "outputs": [
    {
     "name": "stdout",
     "output_type": "stream",
     "text": [
      "Choose rock, paper, or scissors: rock\n",
      "Computer chooses: paper\n",
      "Computer wins!\n"
     ]
    }
   ],
   "source": [
    "import random\n",
    "\n",
    "# Define the options for the game\n",
    "options = [\"rock\", \"paper\", \"scissors\"]\n",
    "\n",
    "# Input the user's choice\n",
    "user_choice = input(\"Choose rock, paper, or scissors: \").lower()\n",
    "\n",
    "# Generate a random choice for the computer\n",
    "computer_choice = random.choice(options)\n",
    "\n",
    "# Print the computer's choice\n",
    "print(f\"Computer chooses: {computer_choice}\")\n",
    "\n",
    "# Determine the winner of the game\n",
    "if user_choice in options:\n",
    "    if user_choice == computer_choice:\n",
    "        result = \"It's a tie!\"\n",
    "    elif (\n",
    "        (user_choice == \"rock\" and computer_choice == \"scissors\")\n",
    "        or (user_choice == \"paper\" and computer_choice == \"rock\")\n",
    "        or (user_choice == \"scissors\" and computer_choice == \"paper\")\n",
    "    ):\n",
    "        result = \"You win!\"\n",
    "    else:\n",
    "        result = \"Computer wins!\"\n",
    "    print(result)\n",
    "else:\n",
    "    print(\"Invalid choice. Please choose rock, paper, or scissors.\")\n"
   ]
  },
  {
   "cell_type": "markdown",
   "id": "05476815",
   "metadata": {},
   "source": [
    "# 23. Develop a program that generates a random password based on user preferences (length, complexity).\n"
   ]
  },
  {
   "cell_type": "code",
   "execution_count": 5,
   "id": "cd9ea942",
   "metadata": {},
   "outputs": [
    {
     "name": "stdout",
     "output_type": "stream",
     "text": [
      "Enter the desired password length: 10\n",
      "Include lowercase letters? (yes/no): yes\n",
      "Include uppercase letters? (yes/no): yes\n",
      "Include digits? (yes/no): yes\n",
      "Include special characters? (yes/no): no\n",
      "Generated password: OWQFOdJgZT\n"
     ]
    }
   ],
   "source": [
    "import random\n",
    "import string\n",
    "\n",
    "# Define character sets for password complexity\n",
    "lowercase_letters = string.ascii_lowercase\n",
    "uppercase_letters = string.ascii_uppercase\n",
    "digits = string.digits\n",
    "special_characters = \"!@#$%^&*()_+-=[]{}|;:,.<>?\"\n",
    "\n",
    "# Input password preferences from the user\n",
    "length = int(input(\"Enter the desired password length: \"))\n",
    "use_lowercase = input(\"Include lowercase letters? (yes/no): \").lower() == \"yes\"\n",
    "use_uppercase = input(\"Include uppercase letters? (yes/no): \").lower() == \"yes\"\n",
    "use_digits = input(\"Include digits? (yes/no): \").lower() == \"yes\"\n",
    "use_special_chars = input(\"Include special characters? (yes/no): \").lower() == \"yes\"\n",
    "\n",
    "# Create a list of characters to use in password generation based on preferences\n",
    "characters = \"\"\n",
    "if use_lowercase:\n",
    "    characters += lowercase_letters\n",
    "if use_uppercase:\n",
    "    characters += uppercase_letters\n",
    "if use_digits:\n",
    "    characters += digits\n",
    "if use_special_chars:\n",
    "    characters += special_characters\n",
    "\n",
    "# Check if at least one character set is selected\n",
    "if not characters:\n",
    "    print(\"Please select at least one character set.\")\n",
    "else:\n",
    "    # Generate the random password\n",
    "    password = ''.join(random.choice(characters) for _ in range(length))\n",
    "    print(\"Generated password:\", password)\n"
   ]
  },
  {
   "cell_type": "markdown",
   "id": "0fcd00d1",
   "metadata": {},
   "source": [
    "# 24. Create a program that implements a simple text-based adventure game with branching scenarios.\n"
   ]
  },
  {
   "cell_type": "code",
   "execution_count": null,
   "id": "60c7b709",
   "metadata": {},
   "outputs": [
    {
     "name": "stdout",
     "output_type": "stream",
     "text": [
      "You find yourself standing at a crossroads. Which path will you choose?\n",
      "A. Go left into the dark forest.\n",
      "B. Take the right path that leads to a meadow.\n",
      "Enter your choice (A/B or A1/A2/B1/B2): A2\n",
      "Invalid choice. Please select a valid option.\n",
      "You find yourself standing at a crossroads. Which path will you choose?\n",
      "A. Go left into the dark forest.\n",
      "B. Take the right path that leads to a meadow.\n",
      "Enter your choice (A/B or A1/A2/B1/B2): B\n",
      "You walk into a beautiful meadow filled with flowers.\n",
      "B1. Pick some flowers.\n",
      "B2. Explore the meadow further.\n"
     ]
    }
   ],
   "source": [
    "import time\n",
    "\n",
    "# Define the initial scenario and available choices\n",
    "scenario = \"You find yourself standing at a crossroads. Which path will you choose?\"\n",
    "choices = {\n",
    "    \"A\": \"Go left into the dark forest.\",\n",
    "    \"B\": \"Take the right path that leads to a meadow.\",\n",
    "}\n",
    "\n",
    "# Define scenarios for each choice\n",
    "scenarios = {\n",
    "    \"A\": {\n",
    "        \"text\": \"You venture into the dark forest. It gets darker as you go deeper.\",\n",
    "        \"choices\": {\n",
    "            \"A1\": \"Keep walking deeper into the forest.\",\n",
    "            \"A2\": \"Turn back and go to the crossroads.\",\n",
    "        },\n",
    "    },\n",
    "    \"B\": {\n",
    "        \"text\": \"You walk into a beautiful meadow filled with flowers.\",\n",
    "        \"choices\": {\n",
    "            \"B1\": \"Pick some flowers.\",\n",
    "            \"B2\": \"Explore the meadow further.\",\n",
    "        },\n",
    "    },\n",
    "}\n",
    "\n",
    "# Function to display the current scenario and choices\n",
    "def display_scenario(scenario, choices):\n",
    "    print(scenario)\n",
    "    for choice, text in choices.items():\n",
    "        print(f\"{choice}. {text}\")\n",
    "\n",
    "# Start the game loop\n",
    "current_scenario = \"start\"\n",
    "while current_scenario:\n",
    "    display_scenario(scenario, choices)\n",
    "\n",
    "    choice = input(\"Enter your choice (A/B or A1/A2/B1/B2): \").upper()\n",
    "\n",
    "    if choice in choices:\n",
    "        scenario = scenarios[choice][\"text\"]\n",
    "        choices = scenarios[choice][\"choices\"]\n",
    "    else:\n",
    "        print(\"Invalid choice. Please select a valid option.\")\n",
    "\n",
    "    # Introduce some delay for better user experience\n",
    "    time.sleep(1)\n",
    "\n",
    "# End of the game\n",
    "print(\"Thanks for playing the adventure game!\")\n",
    "\n"
   ]
  },
  {
   "cell_type": "markdown",
   "id": "f28d3806",
   "metadata": {},
   "source": [
    "# 25. Build a program that solves a linear equation  for x, considering different cases.\n"
   ]
  },
  {
   "cell_type": "code",
   "execution_count": 1,
   "id": "a5561a1a",
   "metadata": {},
   "outputs": [
    {
     "name": "stdout",
     "output_type": "stream",
     "text": [
      "Enter the coefficient 'a': 10\n",
      "Enter the constant term 'b': 5\n",
      "Solution: 10.0x + 5.0 = 0 => x = -0.50\n"
     ]
    }
   ],
   "source": [
    "# Input coefficients a and b from the user\n",
    "a = float(input(\"Enter the coefficient 'a': \"))\n",
    "b = float(input(\"Enter the constant term 'b': \"))\n",
    "\n",
    "# Check different cases\n",
    "if a == 0:\n",
    "    if b == 0:\n",
    "        print(\"Infinite solutions: 0x = 0 (0 = 0)\")\n",
    "    else:\n",
    "        print(\"No solution: 0x = b (0 ≠ 0)\")\n",
    "else:\n",
    "    x = -b / a\n",
    "    print(f\"Solution: {a}x + {b} = 0 => x = {x:.2f}\")\n"
   ]
  },
  {
   "cell_type": "markdown",
   "id": "eb12afab",
   "metadata": {},
   "source": [
    "# 26. Write a program that simulates a basic quiz game with multiple-choice questions and scoring.\n"
   ]
  },
  {
   "cell_type": "code",
   "execution_count": null,
   "id": "b527a36f",
   "metadata": {},
   "outputs": [
    {
     "name": "stdout",
     "output_type": "stream",
     "text": [
      "Which planet is known as the Red Planet?\n",
      "A. Mars\n",
      "B. Venus\n",
      "C. Jupiter\n",
      "Enter the letter of your answer (A/B/C): A\n",
      "Incorrect.\n",
      "\n",
      "What is the largest mammal in the world?\n",
      "A. Elephant\n",
      "B. Blue Whale\n",
      "C. Giraffe\n",
      "Enter the letter of your answer (A/B/C): B\n",
      "Correct!\n",
      "\n",
      "What is the capital of France?\n",
      "A. Paris\n",
      "B. London\n",
      "C. Berlin\n"
     ]
    }
   ],
   "source": [
    "import random\n",
    "\n",
    "# Define quiz questions and answers as a dictionary\n",
    "quiz_questions = {\n",
    "    \"What is the capital of France?\": [\"A. Paris\", \"B. London\", \"C. Berlin\"],\n",
    "    \"Which planet is known as the Red Planet?\": [\"A. Mars\", \"B. Venus\", \"C. Jupiter\"],\n",
    "    \"What is 2 + 2?\": [\"A. 3\", \"B. 4\", \"C. 5\"],\n",
    "    \"What is the largest mammal in the world?\": [\"A. Elephant\", \"B. Blue Whale\", \"C. Giraffe\"],\n",
    "}\n",
    "\n",
    "# Initialize the score\n",
    "score = 0\n",
    "\n",
    "# Shuffle the questions randomly\n",
    "questions = list(quiz_questions.keys())\n",
    "random.shuffle(questions)\n",
    "\n",
    "# Loop through the questions\n",
    "for question in questions:\n",
    "    print(question)\n",
    "    for option in quiz_questions[question]:\n",
    "        print(option)\n",
    "\n",
    "    answer = input(\"Enter the letter of your answer (A/B/C): \").upper()\n",
    "\n",
    "    if answer == \"B\":\n",
    "        print(\"Correct!\\n\")\n",
    "        score += 1\n",
    "    else:\n",
    "        print(\"Incorrect.\\n\")\n",
    "\n",
    "# Display the final score\n",
    "print(f\"Your score is: {score}/{len(quiz_questions)}\")\n"
   ]
  },
  {
   "cell_type": "markdown",
   "id": "af0067f7",
   "metadata": {},
   "source": [
    "# 27. Develop a program that determines whether a given year is a prime number or not.\n"
   ]
  },
  {
   "cell_type": "code",
   "execution_count": 1,
   "id": "503c6c88",
   "metadata": {},
   "outputs": [
    {
     "name": "stdout",
     "output_type": "stream",
     "text": [
      "Enter a year: 2004\n",
      "2004 is not a prime year.\n"
     ]
    }
   ],
   "source": [
    "# Function to check if a number is prime\n",
    "def is_prime(year):\n",
    "    if year <= 1:\n",
    "        return False\n",
    "    if year <= 3:\n",
    "        return True\n",
    "    if year % 2 == 0 or year % 3 == 0:\n",
    "        return False\n",
    "    i = 5\n",
    "    while i * i <= year:\n",
    "        if year % i == 0 or year % (i + 2) == 0:\n",
    "            return False\n",
    "        i += 6\n",
    "    return True\n",
    "\n",
    "# Input the year from the user\n",
    "year = int(input(\"Enter a year: \"))\n",
    "\n",
    "# Check if the year is prime\n",
    "if is_prime(year):\n",
    "    print(f\"{year} is a prime year.\")\n",
    "else:\n",
    "    print(f\"{year} is not a prime year.\")\n"
   ]
  },
  {
   "cell_type": "markdown",
   "id": "89addd3f",
   "metadata": {},
   "source": [
    "# 28. Create a program that sorts three numbers in ascending order using conditional statements.\n"
   ]
  },
  {
   "cell_type": "code",
   "execution_count": 2,
   "id": "f24fdead",
   "metadata": {},
   "outputs": [
    {
     "name": "stdout",
     "output_type": "stream",
     "text": [
      "Enter the first number: 10\n",
      "Enter the second number: 20\n",
      "Enter the third number: 30\n",
      "Sorted numbers in ascending order: [10.0, 20.0, 30.0]\n"
     ]
    }
   ],
   "source": [
    "# Input three numbers from the user\n",
    "num1 = float(input(\"Enter the first number: \"))\n",
    "num2 = float(input(\"Enter the second number: \"))\n",
    "num3 = float(input(\"Enter the third number: \"))\n",
    "\n",
    "# Use conditional statements to sort the numbers\n",
    "if num1 <= num2 <= num3:\n",
    "    sorted_nums = [num1, num2, num3]\n",
    "elif num1 <= num3 <= num2:\n",
    "    sorted_nums = [num1, num3, num2]\n",
    "elif num2 <= num1 <= num3:\n",
    "    sorted_nums = [num2, num1, num3]\n",
    "elif num2 <= num3 <= num1:\n",
    "    sorted_nums = [num2, num3, num1]\n",
    "elif num3 <= num1 <= num2:\n",
    "    sorted_nums = [num3, num1, num2]\n",
    "else:\n",
    "    sorted_nums = [num3, num2, num1]\n",
    "\n",
    "# Print the sorted numbers\n",
    "print(\"Sorted numbers in ascending order:\", sorted_nums)\n"
   ]
  },
  {
   "cell_type": "markdown",
   "id": "50b39eea",
   "metadata": {},
   "source": [
    "# 29. Build a program that determines the roots of a quartic equation using numerical methods.\n"
   ]
  },
  {
   "cell_type": "code",
   "execution_count": 4,
   "id": "c83a2a66",
   "metadata": {},
   "outputs": [
    {
     "name": "stdout",
     "output_type": "stream",
     "text": [
      "Enter the coefficient 'a': 10\n",
      "Enter the coefficient 'b': 20\n",
      "Enter the coefficient 'c': 30\n",
      "Enter the coefficient 'd': 40\n",
      "Enter the coefficient 'e': 50\n",
      "Enter an initial guess for the root: 60\n",
      "No root found within the specified tolerance and maximum iterations.\n"
     ]
    }
   ],
   "source": [
    "# Define the quartic equation: ax^4 + bx^3 + cx^2 + dx + e = 0\n",
    "a = float(input(\"Enter the coefficient 'a': \"))\n",
    "b = float(input(\"Enter the coefficient 'b': \"))\n",
    "c = float(input(\"Enter the coefficient 'c': \"))\n",
    "d = float(input(\"Enter the coefficient 'd': \"))\n",
    "e = float(input(\"Enter the coefficient 'e': \"))\n",
    "\n",
    "# Initial guess for the root (you can adjust this)\n",
    "x0 = float(input(\"Enter an initial guess for the root: \"))\n",
    "\n",
    "# Maximum number of iterations (you can adjust this)\n",
    "max_iterations = 1000\n",
    "\n",
    "# Tolerance (you can adjust this)\n",
    "tolerance = 1e-6\n",
    "\n",
    "# Newton-Raphson method to approximate a root\n",
    "def newton_raphson(x0, max_iterations, tolerance):\n",
    "    x = x0\n",
    "    for i in range(max_iterations):\n",
    "        f_x = a * x**4 + b * x**3 + c * x**2 + d * x + e\n",
    "        f_prime_x = 4 * a * x**3 + 3 * b * x**2 + 2 * c * x + d\n",
    "        x -= f_x / f_prime_x\n",
    "        if abs(f_x) < tolerance:\n",
    "            return x\n",
    "    return None\n",
    "\n",
    "# Find an approximate root\n",
    "approx_root = newton_raphson(x0, max_iterations, tolerance)\n",
    "\n",
    "# Display the result\n",
    "if approx_root is not None:\n",
    "    print(f\"An approximate root is: {approx_root:.6f}\")\n",
    "else:\n",
    "    print(\"No root found within the specified tolerance and maximum iterations.\")\n"
   ]
  },
  {
   "cell_type": "markdown",
   "id": "07eb3ea0",
   "metadata": {},
   "source": [
    "# 30. Write a program that calculates the BMI (Body Mass Index) and provides health recommendations based on the user's input."
   ]
  },
  {
   "cell_type": "code",
   "execution_count": 5,
   "id": "fa386b21",
   "metadata": {},
   "outputs": [
    {
     "name": "stdout",
     "output_type": "stream",
     "text": [
      "Enter your height in meters: 100\n",
      "Enter your weight in kilograms: 50\n",
      "Your BMI is: 0.01\n",
      "You are in the category: Severely underweight\n",
      "Recommendation: Please consult a healthcare professional.\n"
     ]
    }
   ],
   "source": [
    "# Input the user's height and weight\n",
    "height_meters = float(input(\"Enter your height in meters: \"))\n",
    "weight_kg = float(input(\"Enter your weight in kilograms: \"))\n",
    "\n",
    "# Calculate BMI\n",
    "bmi = weight_kg / (height_meters ** 2)\n",
    "\n",
    "# Define BMI categories and corresponding recommendations\n",
    "bmi_categories = [\n",
    "    (16, \"Severely underweight\"),\n",
    "    (16.1, \"Underweight\"),\n",
    "    (18.5, \"Normal (healthy) weight\"),\n",
    "    (25, \"Overweight\"),\n",
    "    (30, \"Obese (Class I)\"),\n",
    "    (35, \"Obese (Class II)\"),\n",
    "    (40, \"Obese (Class III)\"),\n",
    "]\n",
    "\n",
    "# Determine the BMI category and recommendation\n",
    "category = None\n",
    "recommendation = None\n",
    "\n",
    "for upper_limit, label in bmi_categories:\n",
    "    if bmi <= upper_limit:\n",
    "        category = label\n",
    "        break\n",
    "\n",
    "if category == \"Severely underweight\":\n",
    "    recommendation = \"Please consult a healthcare professional.\"\n",
    "elif category == \"Underweight\":\n",
    "    recommendation = \"Consider increasing your calorie intake.\"\n",
    "elif category == \"Overweight\":\n",
    "    recommendation = \"Consider making dietary and lifestyle changes.\"\n",
    "elif category == \"Obese (Class I)\":\n",
    "    recommendation = \"Consult a healthcare professional for weight management.\"\n",
    "elif category == \"Obese (Class II)\":\n",
    "    recommendation = \"Seek medical advice for weight management.\"\n",
    "elif category == \"Obese (Class III)\":\n",
    "    recommendation = \"Urgently consult a healthcare professional.\"\n",
    "\n",
    "# Display BMI and recommendation\n",
    "print(f\"Your BMI is: {bmi:.2f}\")\n",
    "print(f\"You are in the category: {category}\")\n",
    "if recommendation:\n",
    "    print(f\"Recommendation: {recommendation}\")\n"
   ]
  },
  {
   "cell_type": "markdown",
   "id": "873a6173",
   "metadata": {},
   "source": [
    "# Challenge Level:\n"
   ]
  },
  {
   "cell_type": "markdown",
   "id": "fa034e1f",
   "metadata": {},
   "source": [
    "# 31. Create a program that validates a password based on complexity rules (length, characters, etc.).\n"
   ]
  },
  {
   "cell_type": "code",
   "execution_count": 8,
   "id": "06cd7c49",
   "metadata": {},
   "outputs": [
    {
     "name": "stdout",
     "output_type": "stream",
     "text": [
      "Enter your password: Mayurdalvi@3003\n",
      "Password is not valid. Please check the complexity rules.\n"
     ]
    }
   ],
   "source": [
    "import re\n",
    "\n",
    "# Define password complexity rules\n",
    "min_length = 8\n",
    "require_uppercase = True\n",
    "require_lowercase = True\n",
    "require_digit = True\n",
    "require_special_char = True\n",
    "\n",
    "# Input the password from the user\n",
    "password = input(\"Enter your password: \")\n",
    "\n",
    "# Function to validate the password\n",
    "def is_valid_password(password):\n",
    "    # Check length\n",
    "    if len(password) < min_length:\n",
    "        return False\n",
    "    \n",
    "    # Check character types using regular expressions\n",
    "    if require_uppercase and not re.search(r'[A-Z]', password):\n",
    "        return False\n",
    "    if require_lowercase and not re.search(r'[a-z]', password):\n",
    "        return False\n",
    "    if require_digit and not re.search(r'\\d', password):\n",
    "        return False\n",
    "    if require_special_char and not re.search(r'[!@#$%^&*()_+-=[]{}|;:,.<>?]', password):\n",
    "        return False\n",
    "    \n",
    "    return True\n",
    "\n",
    "# Validate the password\n",
    "if is_valid_password(password):\n",
    "    print(\"Password is valid.\")\n",
    "else:\n",
    "    print(\"Password is not valid. Please check the complexity rules.\")\n"
   ]
  },
  {
   "cell_type": "markdown",
   "id": "0407a84e",
   "metadata": {},
   "source": [
    "# 32. Develop a program that performs matrix addition and subtraction based on user input.\n"
   ]
  },
  {
   "cell_type": "code",
   "execution_count": 10,
   "id": "d46b2056",
   "metadata": {},
   "outputs": [
    {
     "name": "stdout",
     "output_type": "stream",
     "text": [
      "Enter the number of rows: 1\n",
      "Enter the number of columns: 2\n",
      "Enter the first matrix:\n",
      "Enter the element at row 1, column 1: 10\n",
      "Enter the element at row 1, column 2: 20\n",
      "Enter the second matrix:\n",
      "Enter the element at row 1, column 1: 20\n",
      "Enter the element at row 1, column 2: 20\n",
      "\n",
      "Matrix Addition Result:\n",
      "30.0 40.0\n",
      "\n",
      "Matrix Subtraction Result:\n",
      "-10.0 0.0\n"
     ]
    }
   ],
   "source": [
    "# Function to create a matrix based on user input\n",
    "def create_matrix(rows, cols):\n",
    "    matrix = []\n",
    "    for i in range(rows):\n",
    "        row = []\n",
    "        for j in range(cols):\n",
    "            element = float(input(f\"Enter the element at row {i + 1}, column {j + 1}: \"))\n",
    "            row.append(element)\n",
    "        matrix.append(row)\n",
    "    return matrix\n",
    "\n",
    "# Function to display a matrix\n",
    "def display_matrix(matrix):\n",
    "    for row in matrix:\n",
    "        print(' '.join(map(str, row)))\n",
    "\n",
    "# Function to add two matrices\n",
    "def add_matrices(matrix1, matrix2):\n",
    "    if len(matrix1) != len(matrix2) or len(matrix1[0]) != len(matrix2[0]):\n",
    "        return None  # Matrices must have the same dimensions for addition\n",
    "\n",
    "    result = []\n",
    "    for i in range(len(matrix1)):\n",
    "        row = []\n",
    "        for j in range(len(matrix1[0])):\n",
    "            row.append(matrix1[i][j] + matrix2[i][j])\n",
    "        result.append(row)\n",
    "    return result\n",
    "\n",
    "# Function to subtract two matrices\n",
    "def subtract_matrices(matrix1, matrix2):\n",
    "    if len(matrix1) != len(matrix2) or len(matrix1[0]) != len(matrix2[0]):\n",
    "        return None  # Matrices must have the same dimensions for subtraction\n",
    "\n",
    "    result = []\n",
    "    for i in range(len(matrix1)):\n",
    "        row = []\n",
    "        for j in range(len(matrix1[0])):\n",
    "            row.append(matrix1[i][j] - matrix2[i][j])\n",
    "        result.append(row)\n",
    "    return result\n",
    "\n",
    "# Input matrix dimensions from the user\n",
    "rows = int(input(\"Enter the number of rows: \"))\n",
    "cols = int(input(\"Enter the number of columns: \"))\n",
    "\n",
    "# Create two matrices based on user input\n",
    "print(\"Enter the first matrix:\")\n",
    "matrix1 = create_matrix(rows, cols)\n",
    "\n",
    "print(\"Enter the second matrix:\")\n",
    "matrix2 = create_matrix(rows, cols)\n",
    "\n",
    "# Perform matrix addition\n",
    "result_addition = add_matrices(matrix1, matrix2)\n",
    "\n",
    "# Perform matrix subtraction\n",
    "result_subtraction = subtract_matrices(matrix1, matrix2)\n",
    "\n",
    "# Display the results\n",
    "if result_addition:\n",
    "    print(\"\\nMatrix Addition Result:\")\n",
    "    display_matrix(result_addition)\n",
    "else:\n",
    "    print(\"\\nMatrix addition is not possible. Matrices must have the same dimensions.\")\n",
    "\n",
    "if result_subtraction:\n",
    "    print(\"\\nMatrix Subtraction Result:\")\n",
    "    display_matrix(result_subtraction)\n",
    "else:\n",
    "    print(\"\\nMatrix subtraction is not possible. Matrices must have the same dimensions.\")\n"
   ]
  },
  {
   "cell_type": "markdown",
   "id": "b7462086",
   "metadata": {},
   "source": [
    "# 33. Write a program that calculates the greatest common divisor (GCD) of two numbers using the Euclidean algorithm."
   ]
  },
  {
   "cell_type": "code",
   "execution_count": 11,
   "id": "ffa8831e",
   "metadata": {},
   "outputs": [
    {
     "name": "stdout",
     "output_type": "stream",
     "text": [
      "Enter the first number: 50\n",
      "Enter the second number: 20\n",
      "The greatest common divisor (GCD) of 50 and 20 is 10\n"
     ]
    }
   ],
   "source": [
    "# Function to calculate the GCD using the Euclidean algorithm\n",
    "def gcd_euclidean(a, b):\n",
    "    while b:\n",
    "        a, b = b, a % b\n",
    "    return a\n",
    "\n",
    "# Input two numbers from the user\n",
    "num1 = int(input(\"Enter the first number: \"))\n",
    "num2 = int(input(\"Enter the second number: \"))\n",
    "\n",
    "# Calculate the GCD\n",
    "gcd = gcd_euclidean(num1, num2)\n",
    "\n",
    "# Display the GCD\n",
    "print(f\"The greatest common divisor (GCD) of {num1} and {num2} is {gcd}\")\n"
   ]
  },
  {
   "cell_type": "markdown",
   "id": "58352ffc",
   "metadata": {},
   "source": [
    "# 34. Build a program that performs matrix multiplication using nested loops and conditional statements.\n"
   ]
  },
  {
   "cell_type": "code",
   "execution_count": 12,
   "id": "ba3ae7b7",
   "metadata": {},
   "outputs": [
    {
     "name": "stdout",
     "output_type": "stream",
     "text": [
      "Enter the number of rows for the first matrix: 1\n",
      "Enter the number of columns for the first matrix: 2\n",
      "Enter the number of rows for the second matrix: 2\n",
      "Enter the number of columns for the second matrix: 3\n",
      "Enter the first matrix:\n",
      "Enter the element at row 1, column 1: 1\n",
      "Enter the element at row 1, column 2: 2\n",
      "Enter the second matrix:\n",
      "Enter the element at row 1, column 1: 3\n",
      "Enter the element at row 1, column 2: 4\n",
      "Enter the element at row 1, column 3: 5\n",
      "Enter the element at row 2, column 1: 6\n",
      "Enter the element at row 2, column 2: 5\n",
      "Enter the element at row 2, column 3: 5\n",
      "\n",
      "Matrix Multiplication Result:\n",
      "15.0 14.0 15.0\n"
     ]
    }
   ],
   "source": [
    "# Function to create a matrix based on user input\n",
    "def create_matrix(rows, cols):\n",
    "    matrix = []\n",
    "    for i in range(rows):\n",
    "        row = []\n",
    "        for j in range(cols):\n",
    "            element = float(input(f\"Enter the element at row {i + 1}, column {j + 1}: \"))\n",
    "            row.append(element)\n",
    "        matrix.append(row)\n",
    "    return matrix\n",
    "\n",
    "# Function to display a matrix\n",
    "def display_matrix(matrix):\n",
    "    for row in matrix:\n",
    "        print(' '.join(map(str, row)))\n",
    "\n",
    "# Function to perform matrix multiplication\n",
    "def multiply_matrices(matrix1, matrix2):\n",
    "    rows1 = len(matrix1)\n",
    "    cols1 = len(matrix1[0])\n",
    "    rows2 = len(matrix2)\n",
    "    cols2 = len(matrix2[0])\n",
    "\n",
    "    if cols1 != rows2:\n",
    "        return None  # Matrix multiplication is not possible\n",
    "\n",
    "    result = []\n",
    "    for i in range(rows1):\n",
    "        row = []\n",
    "        for j in range(cols2):\n",
    "            element = 0\n",
    "            for k in range(cols1):\n",
    "                element += matrix1[i][k] * matrix2[k][j]\n",
    "            row.append(element)\n",
    "        result.append(row)\n",
    "    return result\n",
    "\n",
    "# Input matrix dimensions from the user\n",
    "rows1 = int(input(\"Enter the number of rows for the first matrix: \"))\n",
    "cols1 = int(input(\"Enter the number of columns for the first matrix: \"))\n",
    "\n",
    "rows2 = int(input(\"Enter the number of rows for the second matrix: \"))\n",
    "cols2 = int(input(\"Enter the number of columns for the second matrix: \"))\n",
    "\n",
    "# Create the first matrix based on user input\n",
    "print(\"Enter the first matrix:\")\n",
    "matrix1 = create_matrix(rows1, cols1)\n",
    "\n",
    "# Create the second matrix based on user input\n",
    "print(\"Enter the second matrix:\")\n",
    "matrix2 = create_matrix(rows2, cols2)\n",
    "\n",
    "# Perform matrix multiplication\n",
    "result = multiply_matrices(matrix1, matrix2)\n",
    "\n",
    "# Display the result\n",
    "if result:\n",
    "    print(\"\\nMatrix Multiplication Result:\")\n",
    "    display_matrix(result)\n",
    "else:\n",
    "    print(\"\\nMatrix multiplication is not possible. The number of columns in the first matrix must be equal to the number of rows in the second matrix.\")\n"
   ]
  },
  {
   "cell_type": "markdown",
   "id": "975acf27",
   "metadata": {},
   "source": [
    "# 35. Create a program that simulates a basic text-based tic-tac-toe game against the computer.\n"
   ]
  },
  {
   "cell_type": "code",
   "execution_count": 13,
   "id": "fd20c284",
   "metadata": {},
   "outputs": [
    {
     "name": "stdout",
     "output_type": "stream",
     "text": [
      "  |   |  \n",
      "---------\n",
      "  |   |  \n",
      "---------\n",
      "  |   |  \n",
      "Enter your move (1-9): 5\n",
      "  |   | O\n",
      "---------\n",
      "  | X |  \n",
      "---------\n",
      "  |   |  \n",
      "Enter your move (1-9): 5\n",
      "Invalid move. Try again.\n",
      "Enter your move (1-9): 2\n",
      "  | X | O\n",
      "---------\n",
      "  | X | O\n",
      "---------\n",
      "  |   |  \n",
      "Enter your move (1-9): 8\n",
      "  | X | O\n",
      "---------\n",
      "  | X | O\n",
      "---------\n",
      "  | X |  \n",
      "Congratulations! You win!\n"
     ]
    }
   ],
   "source": [
    "import random\n",
    "\n",
    "# Initialize the tic-tac-toe board\n",
    "board = [\" \" for _ in range(9)]\n",
    "\n",
    "# Function to display the tic-tac-toe board\n",
    "def display_board(board):\n",
    "    print(f\"{board[0]} | {board[1]} | {board[2]}\")\n",
    "    print(\"---------\")\n",
    "    print(f\"{board[3]} | {board[4]} | {board[5]}\")\n",
    "    print(\"---------\")\n",
    "    print(f\"{board[6]} | {board[7]} | {board[8]}\")\n",
    "\n",
    "# Function to check if a player has won\n",
    "def check_win(board, player):\n",
    "    win_combinations = [\n",
    "        [0, 1, 2], [3, 4, 5], [6, 7, 8],  # Rows\n",
    "        [0, 3, 6], [1, 4, 7], [2, 5, 8],  # Columns\n",
    "        [0, 4, 8], [2, 4, 6]  # Diagonals\n",
    "    ]\n",
    "    for combo in win_combinations:\n",
    "        if all(board[i] == player for i in combo):\n",
    "            return True\n",
    "    return False\n",
    "\n",
    "# Function to check if the board is full (a tie)\n",
    "def is_board_full(board):\n",
    "    return \" \" not in board\n",
    "\n",
    "# Function for the computer's move (simple random choice)\n",
    "def computer_move(board):\n",
    "    while True:\n",
    "        move = random.randint(0, 8)\n",
    "        if board[move] == \" \":\n",
    "            return move\n",
    "\n",
    "# Main game loop\n",
    "player_symbol = \"X\"\n",
    "computer_symbol = \"O\"\n",
    "\n",
    "while True:\n",
    "    display_board(board)\n",
    "\n",
    "    # Player's move\n",
    "    while True:\n",
    "        try:\n",
    "            player_move = int(input(\"Enter your move (1-9): \")) - 1\n",
    "            if 0 <= player_move < 9 and board[player_move] == \" \":\n",
    "                break\n",
    "            else:\n",
    "                print(\"Invalid move. Try again.\")\n",
    "        except ValueError:\n",
    "            print(\"Invalid input. Enter a number between 1 and 9.\")\n",
    "\n",
    "    board[player_move] = player_symbol\n",
    "    if check_win(board, player_symbol):\n",
    "        display_board(board)\n",
    "        print(\"Congratulations! You win!\")\n",
    "        break\n",
    "\n",
    "    if is_board_full(board):\n",
    "        display_board(board)\n",
    "        print(\"It's a tie!\")\n",
    "        break\n",
    "\n",
    "    # Computer's move\n",
    "    computer_move_index = computer_move(board)\n",
    "    board[computer_move_index] = computer_symbol\n",
    "    if check_win(board, computer_symbol):\n",
    "        display_board(board)\n",
    "        print(\"Computer wins! Better luck next time.\")\n",
    "        break\n",
    "\n",
    "    if is_board_full(board):\n",
    "        display_board(board)\n",
    "        print(\"It's a tie!\")\n",
    "        break\n"
   ]
  },
  {
   "cell_type": "markdown",
   "id": "ffd1c169",
   "metadata": {},
   "source": [
    "# 36. Write a program that generates Fibonacci numbers up to a specified term using iterative methods.\n"
   ]
  },
  {
   "cell_type": "code",
   "execution_count": 14,
   "id": "c7f75ab4",
   "metadata": {},
   "outputs": [
    {
     "name": "stdout",
     "output_type": "stream",
     "text": [
      "Enter the number of Fibonacci terms to generate: 10\n",
      "Fibonacci Sequence:\n",
      "[0, 1, 1, 2, 3, 5, 8, 13, 21, 34]\n"
     ]
    }
   ],
   "source": [
    "# Function to generate Fibonacci numbers up to a specified term\n",
    "def generate_fibonacci(n):\n",
    "    fibonacci_sequence = []\n",
    "    if n <= 0:\n",
    "        return fibonacci_sequence\n",
    "    elif n == 1:\n",
    "        fibonacci_sequence.append(0)\n",
    "        return fibonacci_sequence\n",
    "    else:\n",
    "        fibonacci_sequence = [0, 1]\n",
    "        while len(fibonacci_sequence) < n:\n",
    "            next_number = fibonacci_sequence[-1] + fibonacci_sequence[-2]\n",
    "            fibonacci_sequence.append(next_number)\n",
    "        return fibonacci_sequence\n",
    "\n",
    "# Input the number of terms from the user\n",
    "n = int(input(\"Enter the number of Fibonacci terms to generate: \"))\n",
    "\n",
    "# Generate Fibonacci numbers\n",
    "fibonacci_sequence = generate_fibonacci(n)\n",
    "\n",
    "# Display the generated Fibonacci sequence\n",
    "print(\"Fibonacci Sequence:\")\n",
    "print(fibonacci_sequence)\n"
   ]
  },
  {
   "cell_type": "markdown",
   "id": "0985e7d5",
   "metadata": {},
   "source": [
    "# 37. Develop a program that calculates the nth term of the Fibonacci sequence using memoization.\n"
   ]
  },
  {
   "cell_type": "code",
   "execution_count": 15,
   "id": "f7e94d47",
   "metadata": {},
   "outputs": [
    {
     "name": "stdout",
     "output_type": "stream",
     "text": [
      "Enter the value of n to calculate the nth Fibonacci term: 10\n",
      "The 10th Fibonacci term is: 55\n"
     ]
    }
   ],
   "source": [
    "# Dictionary to store Fibonacci numbers for memoization\n",
    "fibonacci_cache = {}\n",
    "\n",
    "# Function to calculate the nth Fibonacci term using memoization\n",
    "def fibonacci(n):\n",
    "    if n in fibonacci_cache:\n",
    "        return fibonacci_cache[n]\n",
    "    if n <= 1:\n",
    "        result = n\n",
    "    else:\n",
    "        result = fibonacci(n - 1) + fibonacci(n - 2)\n",
    "    fibonacci_cache[n] = result\n",
    "    return result\n",
    "\n",
    "# Input the value of n from the user\n",
    "n = int(input(\"Enter the value of n to calculate the nth Fibonacci term: \"))\n",
    "\n",
    "# Calculate the nth Fibonacci term\n",
    "nth_term = fibonacci(n)\n",
    "\n",
    "# Display the result\n",
    "print(f\"The {n}th Fibonacci term is: {nth_term}\")\n"
   ]
  },
  {
   "cell_type": "markdown",
   "id": "4d0cd04f",
   "metadata": {},
   "source": [
    "# 38. Create a program that generates a calendar for a given month and year using conditional statements.\n"
   ]
  },
  {
   "cell_type": "code",
   "execution_count": 16,
   "id": "1cae84f8",
   "metadata": {},
   "outputs": [
    {
     "name": "stdout",
     "output_type": "stream",
     "text": [
      "Enter the year (e.g., 2023): 2004\n",
      "Enter the month (1-12): 4\n",
      "Calendar for April 2004:\n",
      "\n",
      "     April 2004\n",
      "Mo Tu We Th Fr Sa Su\n",
      "          1  2  3  4\n",
      " 5  6  7  8  9 10 11\n",
      "12 13 14 15 16 17 18\n",
      "19 20 21 22 23 24 25\n",
      "26 27 28 29 30\n",
      "\n"
     ]
    }
   ],
   "source": [
    "import calendar\n",
    "\n",
    "# Input the year and month from the user\n",
    "year = int(input(\"Enter the year (e.g., 2023): \"))\n",
    "month = int(input(\"Enter the month (1-12): \"))\n",
    "\n",
    "# Validate input\n",
    "if month < 1 or month > 12:\n",
    "    print(\"Invalid month. Please enter a month between 1 and 12.\")\n",
    "else:\n",
    "    # Generate the calendar for the specified month and year\n",
    "    cal = calendar.month(year, month)\n",
    "    print(f\"Calendar for {calendar.month_name[month]} {year}:\\n\")\n",
    "    print(cal)\n"
   ]
  },
  {
   "cell_type": "markdown",
   "id": "17e5b4e2",
   "metadata": {},
   "source": [
    "# 39. Build a program that simulates a basic text-based blackjack game against the computer.\n"
   ]
  },
  {
   "cell_type": "code",
   "execution_count": 9,
   "id": "79b5b74c",
   "metadata": {},
   "outputs": [
    {
     "ename": "TypeError",
     "evalue": "sequence item 0: expected str instance, tuple found",
     "output_type": "error",
     "traceback": [
      "\u001b[1;31m---------------------------------------------------------------------------\u001b[0m",
      "\u001b[1;31mTypeError\u001b[0m                                 Traceback (most recent call last)",
      "Cell \u001b[1;32mIn[9], line 34\u001b[0m\n\u001b[0;32m     31\u001b[0m \u001b[38;5;66;03m# Main game loop\u001b[39;00m\n\u001b[0;32m     32\u001b[0m \u001b[38;5;28;01mwhile\u001b[39;00m \u001b[38;5;28;01mTrue\u001b[39;00m:\n\u001b[0;32m     33\u001b[0m     \u001b[38;5;66;03m# Display hands\u001b[39;00m\n\u001b[1;32m---> 34\u001b[0m     \u001b[38;5;28mprint\u001b[39m(\u001b[38;5;124m\"\u001b[39m\u001b[38;5;130;01m\\n\u001b[39;00m\u001b[38;5;124mYour Hand:\u001b[39m\u001b[38;5;124m\"\u001b[39m, \u001b[43mdisplay_hand\u001b[49m\u001b[43m(\u001b[49m\u001b[43mplayer_hand\u001b[49m\u001b[43m)\u001b[49m)\n\u001b[0;32m     35\u001b[0m     \u001b[38;5;28mprint\u001b[39m(\u001b[38;5;124m\"\u001b[39m\u001b[38;5;124mComputer\u001b[39m\u001b[38;5;124m'\u001b[39m\u001b[38;5;124ms Hand:\u001b[39m\u001b[38;5;124m\"\u001b[39m, computer_hand[\u001b[38;5;241m0\u001b[39m], \u001b[38;5;124m\"\u001b[39m\u001b[38;5;124mand a face-down card\u001b[39m\u001b[38;5;124m\"\u001b[39m)\n\u001b[0;32m     37\u001b[0m     \u001b[38;5;66;03m# Check for blackjack\u001b[39;00m\n",
      "Cell \u001b[1;32mIn[9], line 13\u001b[0m, in \u001b[0;36mdisplay_hand\u001b[1;34m(hand)\u001b[0m\n\u001b[0;32m     12\u001b[0m \u001b[38;5;28;01mdef\u001b[39;00m \u001b[38;5;21mdisplay_hand\u001b[39m(hand):\n\u001b[1;32m---> 13\u001b[0m     \u001b[38;5;28;01mreturn\u001b[39;00m \u001b[38;5;124;43m\"\u001b[39;49m\u001b[38;5;124;43m, \u001b[39;49m\u001b[38;5;124;43m\"\u001b[39;49m\u001b[38;5;241;43m.\u001b[39;49m\u001b[43mjoin\u001b[49m\u001b[43m(\u001b[49m\u001b[43mhand\u001b[49m\u001b[43m)\u001b[49m\n",
      "\u001b[1;31mTypeError\u001b[0m: sequence item 0: expected str instance, tuple found"
     ]
    }
   ],
   "source": [
    "import random\n",
    "\n",
    "# Function to calculate the value of a hand\n",
    "def calculate_hand_value(hand):\n",
    "    value = sum(hand)\n",
    "    if 11 in hand and value > 21:\n",
    "        hand.remove(11)\n",
    "        hand.append(1)\n",
    "    return value\n",
    "\n",
    "# Function to display a hand\n",
    "def display_hand(hand):\n",
    "    return \", \".join(hand)\n",
    "\n",
    "# Initialize deck and hands\n",
    "suits = ['Hearts', 'Diamonds', 'Clubs', 'Spades']\n",
    "ranks = ['Two', 'Three', 'Four', 'Five', 'Six', 'Seven', 'Eight', 'Nine', 'Ten', 'Jack', 'Queen', 'King', 'Ace']\n",
    "\n",
    "deck = [(rank, suit) for rank in ranks for suit in suits]\n",
    "random.shuffle(deck)\n",
    "\n",
    "player_hand = []\n",
    "computer_hand = []\n",
    "\n",
    "# Deal initial cards\n",
    "player_hand.append(deck.pop())\n",
    "computer_hand.append(deck.pop())\n",
    "player_hand.append(deck.pop())\n",
    "computer_hand.append(deck.pop())\n",
    "\n",
    "# Main game loop\n",
    "while True:\n",
    "    # Display hands\n",
    "    print(\"\\nYour Hand:\", display_hand(player_hand))\n",
    "    print(\"Computer's Hand:\", computer_hand[0], \"and a face-down card\")\n",
    "\n",
    "    # Check for blackjack\n",
    "    if calculate_hand_value(player_hand) == 21:\n",
    "        print(\"Blackjack! You win!\")\n",
    "        break\n",
    "    elif calculate_hand_value(computer_hand) == 21:\n",
    "        print(\"Computer has blackjack. You lose.\")\n",
    "        break\n",
    "\n",
    "    # Player's turn\n",
    "    while True:\n",
    "        action = input(\"\\nDo you want to 'hit' or 'stand'? \").lower()\n",
    "        if action == 'hit':\n",
    "            player_hand.append(deck.pop())\n",
    "            if calculate_hand_value(player_hand) > 21:\n",
    "                print(\"Bust! You lose.\")\n",
    "                break\n",
    "        elif action == 'stand':\n",
    "            break\n",
    "\n",
    "    # Computer's turn\n",
    "    while calculate_hand_value(computer_hand) < 17:\n",
    "        computer_hand.append(deck.pop())\n",
    "\n",
    "    # Display hands\n",
    "    print(\"\\nYour Hand:\", display_hand(player_hand))\n",
    "    print(\"Computer's Hand:\", display_hand(computer_hand))\n",
    "\n",
    "    # Determine the winner\n",
    "    player_value = calculate_hand_value(player_hand)\n",
    "    computer_value = calculate_hand_value(computer_hand)\n",
    "\n",
    "    if player_value > 21:\n",
    "        print(\"Bust! You lose.\")\n",
    "    elif computer_value > 21:\n",
    "        print(\"Computer busts. You win!\")\n",
    "    elif player_value > computer_value:\n",
    "        print(\"You win!\")\n",
    "    elif computer_value > player_value:\n",
    "        print(\"Computer wins.\")\n",
    "    else:\n",
    "        print(\"It's a tie!\")\n",
    "\n",
    "    play_again = input(\"\\nDo you want to play again? (yes/no): \").lower()\n",
    "    if play_again != 'yes':\n",
    "        break\n",
    "\n",
    "print(\"Thanks for playing!\")\n"
   ]
  },
  {
   "cell_type": "markdown",
   "id": "1f8c01bf",
   "metadata": {},
   "source": [
    "# 40. Write a program that generates the prime factors of a given number using trial division.\n"
   ]
  },
  {
   "cell_type": "code",
   "execution_count": 8,
   "id": "62860c9b",
   "metadata": {},
   "outputs": [
    {
     "name": "stdout",
     "output_type": "stream",
     "text": [
      "Enter a positive integer: 50\n",
      "The prime factors of 50 are: 2, 5, 5\n"
     ]
    }
   ],
   "source": [
    "# Function to find prime factors using trial division\n",
    "def prime_factors(n):\n",
    "    factors = []\n",
    "    divisor = 2\n",
    "\n",
    "    while n > 1:\n",
    "        while n % divisor == 0:\n",
    "            factors.append(divisor)\n",
    "            n //= divisor\n",
    "        divisor += 1\n",
    "\n",
    "    return factors\n",
    "\n",
    "# Input a number from the user\n",
    "try:\n",
    "    num = int(input(\"Enter a positive integer: \"))\n",
    "    if num <= 0:\n",
    "        print(\"Please enter a positive integer.\")\n",
    "    else:\n",
    "        factors = prime_factors(num)\n",
    "        if len(factors) == 0:\n",
    "            print(f\"{num} has no prime factors.\")\n",
    "        else:\n",
    "            print(f\"The prime factors of {num} are: {', '.join(map(str, factors))}\")\n",
    "except ValueError:\n",
    "    print(\"Invalid input. Please enter a valid positive integer.\")\n"
   ]
  }
 ],
 "metadata": {
  "kernelspec": {
   "display_name": "Python 3 (ipykernel)",
   "language": "python",
   "name": "python3"
  },
  "language_info": {
   "codemirror_mode": {
    "name": "ipython",
    "version": 3
   },
   "file_extension": ".py",
   "mimetype": "text/x-python",
   "name": "python",
   "nbconvert_exporter": "python",
   "pygments_lexer": "ipython3",
   "version": "3.11.1"
  }
 },
 "nbformat": 4,
 "nbformat_minor": 5
}
